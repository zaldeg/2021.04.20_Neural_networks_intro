{
 "metadata": {
  "language_info": {
   "codemirror_mode": {
    "name": "ipython",
    "version": 3
   },
   "file_extension": ".py",
   "mimetype": "text/x-python",
   "name": "python",
   "nbconvert_exporter": "python",
   "pygments_lexer": "ipython3",
   "version": "3.8.5"
  },
  "orig_nbformat": 2,
  "kernelspec": {
   "name": "python385jvsc74a57bd0f7c604d00f38437f4df57123c10451e0676060e1a3eca5c56f25a4495d595057",
   "display_name": "Python 3.8.5 64-bit"
  },
  "metadata": {
   "interpreter": {
    "hash": "f7c604d00f38437f4df57123c10451e0676060e1a3eca5c56f25a4495d595057"
   }
  }
 },
 "nbformat": 4,
 "nbformat_minor": 2,
 "cells": [
  {
   "source": [
    "## Практическое задание\n",
    "\n",
    "Используем набор примеров fashion-MNIST\n",
    "\n",
    "1.  Опишите - какой результата получен в нейросети в зависимости от:\n",
    "  -  числа нейронов в слое(для 2-хслойной сети), \n",
    "  - числа слоев (2, 3, 5, 10) при близких размерах сети (близкое число тренируемых парметров).\n",
    "  - фиксируйте для тренировочного и тестового набора метрики accuracy.\n",
    "2.  Проверьте работу разных оптимизаторов (SGD, Adam, RMSProp) для одной из моделей п.1.Фиксируйте для тренировочного и тестового набора метрики accuracy.\n",
    "\n",
    "3. Сделайте вывод - что помогло вам улучшить качество классификации в нейросети на тестовом наборе? \n",
    "\n",
    "4. Для одного варианта сетей сформируйте матрицу ошибок по классам. Оцените качество модели по каждому классу отдельно (полнота , точность)"
   ],
   "cell_type": "markdown",
   "metadata": {}
  },
  {
   "cell_type": "code",
   "execution_count": 1,
   "metadata": {},
   "outputs": [],
   "source": [
    "import numpy as np\n",
    "import pandas as pd\n",
    "\n",
    "from matplotlib import pyplot as plt\n",
    "import seaborn as sns\n",
    "\n",
    "from tqdm.notebook import tqdm\n",
    "\n",
    "import keras\n",
    "from keras.models import Sequential\n",
    "from keras.layers import Dense\n",
    "from keras.utils import to_categorical\n",
    "from keras.datasets import fashion_mnist\n"
   ]
  },
  {
   "cell_type": "code",
   "execution_count": 66,
   "metadata": {},
   "outputs": [],
   "source": [
    "(X_images_train, y_train), (X_images_test, y_test) = fashion_mnist.load_data()"
   ]
  },
  {
   "cell_type": "code",
   "execution_count": 67,
   "metadata": {},
   "outputs": [
    {
     "output_type": "execute_result",
     "data": {
      "text/plain": [
       "<matplotlib.image.AxesImage at 0x2206717b280>"
      ]
     },
     "metadata": {},
     "execution_count": 67
    },
    {
     "output_type": "display_data",
     "data": {
      "text/plain": "<Figure size 432x288 with 1 Axes>",
      "image/svg+xml": "<?xml version=\"1.0\" encoding=\"utf-8\" standalone=\"no\"?>\r\n<!DOCTYPE svg PUBLIC \"-//W3C//DTD SVG 1.1//EN\"\r\n  \"http://www.w3.org/Graphics/SVG/1.1/DTD/svg11.dtd\">\r\n<!-- Created with matplotlib (https://matplotlib.org/) -->\r\n<svg height=\"248.518125pt\" version=\"1.1\" viewBox=\"0 0 251.565 248.518125\" width=\"251.565pt\" xmlns=\"http://www.w3.org/2000/svg\" xmlns:xlink=\"http://www.w3.org/1999/xlink\">\r\n <metadata>\r\n  <rdf:RDF xmlns:cc=\"http://creativecommons.org/ns#\" xmlns:dc=\"http://purl.org/dc/elements/1.1/\" xmlns:rdf=\"http://www.w3.org/1999/02/22-rdf-syntax-ns#\">\r\n   <cc:Work>\r\n    <dc:type rdf:resource=\"http://purl.org/dc/dcmitype/StillImage\"/>\r\n    <dc:date>2021-04-29T15:16:06.696480</dc:date>\r\n    <dc:format>image/svg+xml</dc:format>\r\n    <dc:creator>\r\n     <cc:Agent>\r\n      <dc:title>Matplotlib v3.3.0, https://matplotlib.org/</dc:title>\r\n     </cc:Agent>\r\n    </dc:creator>\r\n   </cc:Work>\r\n  </rdf:RDF>\r\n </metadata>\r\n <defs>\r\n  <style type=\"text/css\">*{stroke-linecap:butt;stroke-linejoin:round;}</style>\r\n </defs>\r\n <g id=\"figure_1\">\r\n  <g id=\"patch_1\">\r\n   <path d=\"M 0 248.518125 \r\nL 251.565 248.518125 \r\nL 251.565 0 \r\nL 0 0 \r\nz\r\n\" style=\"fill:none;\"/>\r\n  </g>\r\n  <g id=\"axes_1\">\r\n   <g id=\"patch_2\">\r\n    <path d=\"M 26.925 224.64 \r\nL 244.365 224.64 \r\nL 244.365 7.2 \r\nL 26.925 7.2 \r\nz\r\n\" style=\"fill:#ffffff;\"/>\r\n   </g>\r\n   <g clip-path=\"url(#p4d01b893d8)\">\r\n    <image height=\"218\" id=\"image468d95c092\" transform=\"scale(1 -1)translate(0 -218)\" width=\"218\" x=\"26.925\" xlink:href=\"data:image/png;base64,\r\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\" y=\"-6.64\"/>\r\n   </g>\r\n   <g id=\"matplotlib.axis_1\">\r\n    <g id=\"xtick_1\">\r\n     <g id=\"line2d_1\">\r\n      <defs>\r\n       <path d=\"M 0 0 \r\nL 0 3.5 \r\n\" id=\"m4afde7cc65\" style=\"stroke:#000000;stroke-width:0.8;\"/>\r\n      </defs>\r\n      <g>\r\n       <use style=\"stroke:#000000;stroke-width:0.8;\" x=\"30.807857\" xlink:href=\"#m4afde7cc65\" y=\"224.64\"/>\r\n      </g>\r\n     </g>\r\n     <g id=\"text_1\">\r\n      <!-- 0 -->\r\n      <g transform=\"translate(27.626607 239.238437)scale(0.1 -0.1)\">\r\n       <defs>\r\n        <path d=\"M 31.78125 66.40625 \r\nQ 24.171875 66.40625 20.328125 58.90625 \r\nQ 16.5 51.421875 16.5 36.375 \r\nQ 16.5 21.390625 20.328125 13.890625 \r\nQ 24.171875 6.390625 31.78125 6.390625 \r\nQ 39.453125 6.390625 43.28125 13.890625 \r\nQ 47.125 21.390625 47.125 36.375 \r\nQ 47.125 51.421875 43.28125 58.90625 \r\nQ 39.453125 66.40625 31.78125 66.40625 \r\nz\r\nM 31.78125 74.21875 \r\nQ 44.046875 74.21875 50.515625 64.515625 \r\nQ 56.984375 54.828125 56.984375 36.375 \r\nQ 56.984375 17.96875 50.515625 8.265625 \r\nQ 44.046875 -1.421875 31.78125 -1.421875 \r\nQ 19.53125 -1.421875 13.0625 8.265625 \r\nQ 6.59375 17.96875 6.59375 36.375 \r\nQ 6.59375 54.828125 13.0625 64.515625 \r\nQ 19.53125 74.21875 31.78125 74.21875 \r\nz\r\n\" id=\"DejaVuSans-48\"/>\r\n       </defs>\r\n       <use xlink:href=\"#DejaVuSans-48\"/>\r\n      </g>\r\n     </g>\r\n    </g>\r\n    <g id=\"xtick_2\">\r\n     <g id=\"line2d_2\">\r\n      <g>\r\n       <use style=\"stroke:#000000;stroke-width:0.8;\" x=\"69.636429\" xlink:href=\"#m4afde7cc65\" y=\"224.64\"/>\r\n      </g>\r\n     </g>\r\n     <g id=\"text_2\">\r\n      <!-- 5 -->\r\n      <g transform=\"translate(66.455179 239.238437)scale(0.1 -0.1)\">\r\n       <defs>\r\n        <path d=\"M 10.796875 72.90625 \r\nL 49.515625 72.90625 \r\nL 49.515625 64.59375 \r\nL 19.828125 64.59375 \r\nL 19.828125 46.734375 \r\nQ 21.96875 47.46875 24.109375 47.828125 \r\nQ 26.265625 48.1875 28.421875 48.1875 \r\nQ 40.625 48.1875 47.75 41.5 \r\nQ 54.890625 34.8125 54.890625 23.390625 \r\nQ 54.890625 11.625 47.5625 5.09375 \r\nQ 40.234375 -1.421875 26.90625 -1.421875 \r\nQ 22.3125 -1.421875 17.546875 -0.640625 \r\nQ 12.796875 0.140625 7.71875 1.703125 \r\nL 7.71875 11.625 \r\nQ 12.109375 9.234375 16.796875 8.0625 \r\nQ 21.484375 6.890625 26.703125 6.890625 \r\nQ 35.15625 6.890625 40.078125 11.328125 \r\nQ 45.015625 15.765625 45.015625 23.390625 \r\nQ 45.015625 31 40.078125 35.4375 \r\nQ 35.15625 39.890625 26.703125 39.890625 \r\nQ 22.75 39.890625 18.8125 39.015625 \r\nQ 14.890625 38.140625 10.796875 36.28125 \r\nz\r\n\" id=\"DejaVuSans-53\"/>\r\n       </defs>\r\n       <use xlink:href=\"#DejaVuSans-53\"/>\r\n      </g>\r\n     </g>\r\n    </g>\r\n    <g id=\"xtick_3\">\r\n     <g id=\"line2d_3\">\r\n      <g>\r\n       <use style=\"stroke:#000000;stroke-width:0.8;\" x=\"108.465\" xlink:href=\"#m4afde7cc65\" y=\"224.64\"/>\r\n      </g>\r\n     </g>\r\n     <g id=\"text_3\">\r\n      <!-- 10 -->\r\n      <g transform=\"translate(102.1025 239.238437)scale(0.1 -0.1)\">\r\n       <defs>\r\n        <path d=\"M 12.40625 8.296875 \r\nL 28.515625 8.296875 \r\nL 28.515625 63.921875 \r\nL 10.984375 60.40625 \r\nL 10.984375 69.390625 \r\nL 28.421875 72.90625 \r\nL 38.28125 72.90625 \r\nL 38.28125 8.296875 \r\nL 54.390625 8.296875 \r\nL 54.390625 0 \r\nL 12.40625 0 \r\nz\r\n\" id=\"DejaVuSans-49\"/>\r\n       </defs>\r\n       <use xlink:href=\"#DejaVuSans-49\"/>\r\n       <use x=\"63.623047\" xlink:href=\"#DejaVuSans-48\"/>\r\n      </g>\r\n     </g>\r\n    </g>\r\n    <g id=\"xtick_4\">\r\n     <g id=\"line2d_4\">\r\n      <g>\r\n       <use style=\"stroke:#000000;stroke-width:0.8;\" x=\"147.293571\" xlink:href=\"#m4afde7cc65\" y=\"224.64\"/>\r\n      </g>\r\n     </g>\r\n     <g id=\"text_4\">\r\n      <!-- 15 -->\r\n      <g transform=\"translate(140.931071 239.238437)scale(0.1 -0.1)\">\r\n       <use xlink:href=\"#DejaVuSans-49\"/>\r\n       <use x=\"63.623047\" xlink:href=\"#DejaVuSans-53\"/>\r\n      </g>\r\n     </g>\r\n    </g>\r\n    <g id=\"xtick_5\">\r\n     <g id=\"line2d_5\">\r\n      <g>\r\n       <use style=\"stroke:#000000;stroke-width:0.8;\" x=\"186.122143\" xlink:href=\"#m4afde7cc65\" y=\"224.64\"/>\r\n      </g>\r\n     </g>\r\n     <g id=\"text_5\">\r\n      <!-- 20 -->\r\n      <g transform=\"translate(179.759643 239.238437)scale(0.1 -0.1)\">\r\n       <defs>\r\n        <path d=\"M 19.1875 8.296875 \r\nL 53.609375 8.296875 \r\nL 53.609375 0 \r\nL 7.328125 0 \r\nL 7.328125 8.296875 \r\nQ 12.9375 14.109375 22.625 23.890625 \r\nQ 32.328125 33.6875 34.8125 36.53125 \r\nQ 39.546875 41.84375 41.421875 45.53125 \r\nQ 43.3125 49.21875 43.3125 52.78125 \r\nQ 43.3125 58.59375 39.234375 62.25 \r\nQ 35.15625 65.921875 28.609375 65.921875 \r\nQ 23.96875 65.921875 18.8125 64.3125 \r\nQ 13.671875 62.703125 7.8125 59.421875 \r\nL 7.8125 69.390625 \r\nQ 13.765625 71.78125 18.9375 73 \r\nQ 24.125 74.21875 28.421875 74.21875 \r\nQ 39.75 74.21875 46.484375 68.546875 \r\nQ 53.21875 62.890625 53.21875 53.421875 \r\nQ 53.21875 48.921875 51.53125 44.890625 \r\nQ 49.859375 40.875 45.40625 35.40625 \r\nQ 44.1875 33.984375 37.640625 27.21875 \r\nQ 31.109375 20.453125 19.1875 8.296875 \r\nz\r\n\" id=\"DejaVuSans-50\"/>\r\n       </defs>\r\n       <use xlink:href=\"#DejaVuSans-50\"/>\r\n       <use x=\"63.623047\" xlink:href=\"#DejaVuSans-48\"/>\r\n      </g>\r\n     </g>\r\n    </g>\r\n    <g id=\"xtick_6\">\r\n     <g id=\"line2d_6\">\r\n      <g>\r\n       <use style=\"stroke:#000000;stroke-width:0.8;\" x=\"224.950714\" xlink:href=\"#m4afde7cc65\" y=\"224.64\"/>\r\n      </g>\r\n     </g>\r\n     <g id=\"text_6\">\r\n      <!-- 25 -->\r\n      <g transform=\"translate(218.588214 239.238437)scale(0.1 -0.1)\">\r\n       <use xlink:href=\"#DejaVuSans-50\"/>\r\n       <use x=\"63.623047\" xlink:href=\"#DejaVuSans-53\"/>\r\n      </g>\r\n     </g>\r\n    </g>\r\n   </g>\r\n   <g id=\"matplotlib.axis_2\">\r\n    <g id=\"ytick_1\">\r\n     <g id=\"line2d_7\">\r\n      <defs>\r\n       <path d=\"M 0 0 \r\nL -3.5 0 \r\n\" id=\"m2c77f43973\" style=\"stroke:#000000;stroke-width:0.8;\"/>\r\n      </defs>\r\n      <g>\r\n       <use style=\"stroke:#000000;stroke-width:0.8;\" x=\"26.925\" xlink:href=\"#m2c77f43973\" y=\"11.082857\"/>\r\n      </g>\r\n     </g>\r\n     <g id=\"text_7\">\r\n      <!-- 0 -->\r\n      <g transform=\"translate(13.5625 14.882076)scale(0.1 -0.1)\">\r\n       <use xlink:href=\"#DejaVuSans-48\"/>\r\n      </g>\r\n     </g>\r\n    </g>\r\n    <g id=\"ytick_2\">\r\n     <g id=\"line2d_8\">\r\n      <g>\r\n       <use style=\"stroke:#000000;stroke-width:0.8;\" x=\"26.925\" xlink:href=\"#m2c77f43973\" y=\"49.911429\"/>\r\n      </g>\r\n     </g>\r\n     <g id=\"text_8\">\r\n      <!-- 5 -->\r\n      <g transform=\"translate(13.5625 53.710647)scale(0.1 -0.1)\">\r\n       <use xlink:href=\"#DejaVuSans-53\"/>\r\n      </g>\r\n     </g>\r\n    </g>\r\n    <g id=\"ytick_3\">\r\n     <g id=\"line2d_9\">\r\n      <g>\r\n       <use style=\"stroke:#000000;stroke-width:0.8;\" x=\"26.925\" xlink:href=\"#m2c77f43973\" y=\"88.74\"/>\r\n      </g>\r\n     </g>\r\n     <g id=\"text_9\">\r\n      <!-- 10 -->\r\n      <g transform=\"translate(7.2 92.539219)scale(0.1 -0.1)\">\r\n       <use xlink:href=\"#DejaVuSans-49\"/>\r\n       <use x=\"63.623047\" xlink:href=\"#DejaVuSans-48\"/>\r\n      </g>\r\n     </g>\r\n    </g>\r\n    <g id=\"ytick_4\">\r\n     <g id=\"line2d_10\">\r\n      <g>\r\n       <use style=\"stroke:#000000;stroke-width:0.8;\" x=\"26.925\" xlink:href=\"#m2c77f43973\" y=\"127.568571\"/>\r\n      </g>\r\n     </g>\r\n     <g id=\"text_10\">\r\n      <!-- 15 -->\r\n      <g transform=\"translate(7.2 131.36779)scale(0.1 -0.1)\">\r\n       <use xlink:href=\"#DejaVuSans-49\"/>\r\n       <use x=\"63.623047\" xlink:href=\"#DejaVuSans-53\"/>\r\n      </g>\r\n     </g>\r\n    </g>\r\n    <g id=\"ytick_5\">\r\n     <g id=\"line2d_11\">\r\n      <g>\r\n       <use style=\"stroke:#000000;stroke-width:0.8;\" x=\"26.925\" xlink:href=\"#m2c77f43973\" y=\"166.397143\"/>\r\n      </g>\r\n     </g>\r\n     <g id=\"text_11\">\r\n      <!-- 20 -->\r\n      <g transform=\"translate(7.2 170.196362)scale(0.1 -0.1)\">\r\n       <use xlink:href=\"#DejaVuSans-50\"/>\r\n       <use x=\"63.623047\" xlink:href=\"#DejaVuSans-48\"/>\r\n      </g>\r\n     </g>\r\n    </g>\r\n    <g id=\"ytick_6\">\r\n     <g id=\"line2d_12\">\r\n      <g>\r\n       <use style=\"stroke:#000000;stroke-width:0.8;\" x=\"26.925\" xlink:href=\"#m2c77f43973\" y=\"205.225714\"/>\r\n      </g>\r\n     </g>\r\n     <g id=\"text_12\">\r\n      <!-- 25 -->\r\n      <g transform=\"translate(7.2 209.024933)scale(0.1 -0.1)\">\r\n       <use xlink:href=\"#DejaVuSans-50\"/>\r\n       <use x=\"63.623047\" xlink:href=\"#DejaVuSans-53\"/>\r\n      </g>\r\n     </g>\r\n    </g>\r\n   </g>\r\n   <g id=\"patch_3\">\r\n    <path d=\"M 26.925 224.64 \r\nL 26.925 7.2 \r\n\" style=\"fill:none;stroke:#000000;stroke-linecap:square;stroke-linejoin:miter;stroke-width:0.8;\"/>\r\n   </g>\r\n   <g id=\"patch_4\">\r\n    <path d=\"M 244.365 224.64 \r\nL 244.365 7.2 \r\n\" style=\"fill:none;stroke:#000000;stroke-linecap:square;stroke-linejoin:miter;stroke-width:0.8;\"/>\r\n   </g>\r\n   <g id=\"patch_5\">\r\n    <path d=\"M 26.925 224.64 \r\nL 244.365 224.64 \r\n\" style=\"fill:none;stroke:#000000;stroke-linecap:square;stroke-linejoin:miter;stroke-width:0.8;\"/>\r\n   </g>\r\n   <g id=\"patch_6\">\r\n    <path d=\"M 26.925 7.2 \r\nL 244.365 7.2 \r\n\" style=\"fill:none;stroke:#000000;stroke-linecap:square;stroke-linejoin:miter;stroke-width:0.8;\"/>\r\n   </g>\r\n  </g>\r\n </g>\r\n <defs>\r\n  <clipPath id=\"p4d01b893d8\">\r\n   <rect height=\"217.44\" width=\"217.44\" x=\"26.925\" y=\"7.2\"/>\r\n  </clipPath>\r\n </defs>\r\n</svg>\r\n",
      "image/png": "[encoded data removed]"
     },
     "metadata": {
      "needs_background": "light"
     }
    }
   ],
   "source": [
    "plt.imshow(X_images_train[0])"
   ]
  },
  {
   "cell_type": "code",
   "execution_count": 4,
   "metadata": {},
   "outputs": [],
   "source": [
    "X_train = (X_images_train/127) - 1 \n",
    "X_test = (X_images_test/127) - 1 "
   ]
  },
  {
   "cell_type": "code",
   "execution_count": 5,
   "metadata": {},
   "outputs": [],
   "source": [
    "X_train = X_train.reshape((-1, 784))\n",
    "X_test = X_test.reshape((-1, 784))"
   ]
  },
  {
   "cell_type": "code",
   "execution_count": 6,
   "metadata": {},
   "outputs": [],
   "source": [
    "y_t = to_categorical(y_train,10)\n",
    "y_tt = to_categorical(y_test,10)"
   ]
  },
  {
   "cell_type": "code",
   "execution_count": 7,
   "metadata": {},
   "outputs": [],
   "source": [
    "def create_layers(model, shape):\n",
    "    for i in range(0, len(shape) - 1):\n",
    "        model.add(Dense(shape[i], activation='relu', input_shape=(784,)))\n",
    "    model.add(Dense(10, activation='softmax'))\n",
    "    return model"
   ]
  },
  {
   "source": [
    "делаем сетку нейронов для "
   ],
   "cell_type": "markdown",
   "metadata": {}
  },
  {
   "cell_type": "code",
   "execution_count": 8,
   "metadata": {},
   "outputs": [],
   "source": [
    "# doing nlist of 2 neuron layers\n",
    "neurons = np.linspace(2,50,7, dtype='int32')\n",
    "shapes = [(i, j) for i in neurons for j in neurons]"
   ]
  },
  {
   "cell_type": "code",
   "execution_count": 9,
   "metadata": {},
   "outputs": [
    {
     "output_type": "execute_result",
     "data": {
      "text/plain": [
       "array([ 2, 10, 18, 26, 34, 42, 50])"
      ]
     },
     "metadata": {},
     "execution_count": 9
    }
   ],
   "source": [
    "neurons"
   ]
  },
  {
   "cell_type": "code",
   "execution_count": 13,
   "metadata": {
    "tags": []
   },
   "outputs": [],
   "source": [
    "def model_fit(X_train, y_t, shapes=[[280, 150]], optimizer='RMSProp', ret_model=False):\n",
    "    '''\n",
    "    Create model and fit it on Xtrain, y_t\n",
    "    Input:\n",
    "        X_train, y_train.\n",
    "        shapes - list of hiden layers shapes.\n",
    "        optimizer - str with name of optimizer.\n",
    "        ret_model - flag, if True return not only hysotry but model too.\n",
    "    Output:\n",
    "        histories - list of tupples in every (shape, history_object).\n",
    "        optional:\n",
    "            model - if ret_model=True, return model too.\n",
    "    '''\n",
    "    histories = []\n",
    "    for shape in tqdm(shapes):\n",
    "        model = Sequential(name='my_model')\n",
    "        model = create_layers(model, shape)\n",
    "        model.compile(\n",
    "                    optimizer=optimizer,\n",
    "                    loss='categorical_crossentropy',\n",
    "                    metrics=['accuracy'],\n",
    "                )\n",
    "        h = model.fit(  \n",
    "                    X_train,\n",
    "                    y_t,\n",
    "                    epochs=15,\n",
    "                    batch_size=64,\n",
    "                    validation_split=0.2,\n",
    "                    verbose=False\n",
    "                )\n",
    "        histories.append((shape, h))\n",
    "    if ret_model:\n",
    "        return histories, model\n",
    "    else:\n",
    "        return histories"
   ]
  },
  {
   "cell_type": "code",
   "execution_count": 14,
   "metadata": {},
   "outputs": [
    {
     "output_type": "display_data",
     "data": {
      "text/plain": "HBox(children=(HTML(value=''), FloatProgress(value=0.0, max=49.0), HTML(value='')))",
      "application/vnd.jupyter.widget-view+json": {
       "version_major": 2,
       "version_minor": 0,
       "model_id": "38d7f5684782494e8cfefc6d5e7136dc"
      }
     },
     "metadata": {}
    },
    {
     "output_type": "stream",
     "name": "stdout",
     "text": [
      "\n"
     ]
    }
   ],
   "source": [
    "histories = model_fit(X_train, y_t, shapes)"
   ]
  },
  {
   "cell_type": "code",
   "execution_count": 18,
   "metadata": {},
   "outputs": [],
   "source": [
    "temp = np.zeros((7,7))\n",
    "result1 = pd.DataFrame(temp, columns=neurons, index=neurons)\n",
    "for history in histories:\n",
    "    result1.at[history[0][0],history[0][1]] = history[1].history['val_accuracy'][-1]"
   ]
  },
  {
   "cell_type": "code",
   "execution_count": 19,
   "metadata": {},
   "outputs": [
    {
     "output_type": "execute_result",
     "data": {
      "text/plain": [
       "          2         10        18        26        34        42        50\n",
       "2   0.694917  0.694417  0.715583  0.663500  0.728500  0.694917  0.722333\n",
       "10  0.857250  0.856167  0.854500  0.855333  0.855667  0.849333  0.850000\n",
       "18  0.866000  0.868917  0.867333  0.857333  0.863250  0.855250  0.865500\n",
       "26  0.873250  0.855417  0.866833  0.869750  0.873667  0.865250  0.871000\n",
       "34  0.872250  0.870750  0.870250  0.879833  0.877917  0.875750  0.875167\n",
       "42  0.870250  0.877750  0.862250  0.878083  0.864667  0.877083  0.874417\n",
       "50  0.881000  0.871417  0.875917  0.877167  0.872583  0.875000  0.875250"
      ],
      "text/html": "<div>\n<style scoped>\n    .dataframe tbody tr th:only-of-type {\n        vertical-align: middle;\n    }\n\n    .dataframe tbody tr th {\n        vertical-align: top;\n    }\n\n    .dataframe thead th {\n        text-align: right;\n    }\n</style>\n<table border=\"1\" class=\"dataframe\">\n  <thead>\n    <tr style=\"text-align: right;\">\n      <th></th>\n      <th>2</th>\n      <th>10</th>\n      <th>18</th>\n      <th>26</th>\n      <th>34</th>\n      <th>42</th>\n      <th>50</th>\n    </tr>\n  </thead>\n  <tbody>\n    <tr>\n      <th>2</th>\n      <td>0.694917</td>\n      <td>0.694417</td>\n      <td>0.715583</td>\n      <td>0.663500</td>\n      <td>0.728500</td>\n      <td>0.694917</td>\n      <td>0.722333</td>\n    </tr>\n    <tr>\n      <th>10</th>\n      <td>0.857250</td>\n      <td>0.856167</td>\n      <td>0.854500</td>\n      <td>0.855333</td>\n      <td>0.855667</td>\n      <td>0.849333</td>\n      <td>0.850000</td>\n    </tr>\n    <tr>\n      <th>18</th>\n      <td>0.866000</td>\n      <td>0.868917</td>\n      <td>0.867333</td>\n      <td>0.857333</td>\n      <td>0.863250</td>\n      <td>0.855250</td>\n      <td>0.865500</td>\n    </tr>\n    <tr>\n      <th>26</th>\n      <td>0.873250</td>\n      <td>0.855417</td>\n      <td>0.866833</td>\n      <td>0.869750</td>\n      <td>0.873667</td>\n      <td>0.865250</td>\n      <td>0.871000</td>\n    </tr>\n    <tr>\n      <th>34</th>\n      <td>0.872250</td>\n      <td>0.870750</td>\n      <td>0.870250</td>\n      <td>0.879833</td>\n      <td>0.877917</td>\n      <td>0.875750</td>\n      <td>0.875167</td>\n    </tr>\n    <tr>\n      <th>42</th>\n      <td>0.870250</td>\n      <td>0.877750</td>\n      <td>0.862250</td>\n      <td>0.878083</td>\n      <td>0.864667</td>\n      <td>0.877083</td>\n      <td>0.874417</td>\n    </tr>\n    <tr>\n      <th>50</th>\n      <td>0.881000</td>\n      <td>0.871417</td>\n      <td>0.875917</td>\n      <td>0.877167</td>\n      <td>0.872583</td>\n      <td>0.875000</td>\n      <td>0.875250</td>\n    </tr>\n  </tbody>\n</table>\n</div>"
     },
     "metadata": {},
     "execution_count": 19
    }
   ],
   "source": [
    "result1"
   ]
  },
  {
   "cell_type": "code",
   "execution_count": 20,
   "metadata": {},
   "outputs": [
    {
     "output_type": "execute_result",
     "data": {
      "text/plain": [
       "<AxesSubplot:>"
      ]
     },
     "metadata": {},
     "execution_count": 20
    },
    {
     "output_type": "display_data",
     "data": {
      "text/plain": "<Figure size 432x288 with 2 Axes>",
      "image/svg+xml": "<?xml version=\"1.0\" encoding=\"utf-8\" standalone=\"no\"?>\r\n<!DOCTYPE svg PUBLIC \"-//W3C//DTD SVG 1.1//EN\"\r\n  \"http://www.w3.org/Graphics/SVG/1.1/DTD/svg11.dtd\">\r\n<!-- Created with matplotlib (https://matplotlib.org/) -->\r\n<svg height=\"248.518125pt\" version=\"1.1\" viewBox=\"0 0 362.15825 248.518125\" width=\"362.15825pt\" xmlns=\"http://www.w3.org/2000/svg\" xmlns:xlink=\"http://www.w3.org/1999/xlink\">\r\n <metadata>\r\n  <rdf:RDF xmlns:cc=\"http://creativecommons.org/ns#\" xmlns:dc=\"http://purl.org/dc/elements/1.1/\" xmlns:rdf=\"http://www.w3.org/1999/02/22-rdf-syntax-ns#\">\r\n   <cc:Work>\r\n    <dc:type rdf:resource=\"http://purl.org/dc/dcmitype/StillImage\"/>\r\n    <dc:date>2021-04-29T14:46:04.289285</dc:date>\r\n    <dc:format>image/svg+xml</dc:format>\r\n    <dc:creator>\r\n     <cc:Agent>\r\n      <dc:title>Matplotlib v3.3.0, https://matplotlib.org/</dc:title>\r\n     </cc:Agent>\r\n    </dc:creator>\r\n   </cc:Work>\r\n  </rdf:RDF>\r\n </metadata>\r\n <defs>\r\n  <style type=\"text/css\">*{stroke-linecap:butt;stroke-linejoin:round;}</style>\r\n </defs>\r\n <g id=\"figure_1\">\r\n  <g id=\"patch_1\">\r\n   <path d=\"M -0 248.518125 \r\nL 362.15825 248.518125 \r\nL 362.15825 0 \r\nL -0 0 \r\nz\r\n\" style=\"fill:none;\"/>\r\n  </g>\r\n  <g id=\"axes_1\">\r\n   <g id=\"patch_2\">\r\n    <path d=\"M 23.878125 224.64 \r\nL 291.718125 224.64 \r\nL 291.718125 7.2 \r\nL 23.878125 7.2 \r\nz\r\n\" style=\"fill:#ffffff;\"/>\r\n   </g>\r\n   <g id=\"QuadMesh_1\">\r\n    <path clip-path=\"url(#p87dcdd5d55)\" d=\"M 23.878125 7.2 \r\nL 62.140982 7.2 \r\nL 62.140982 38.262857 \r\nL 23.878125 38.262857 \r\nL 23.878125 7.2 \r\n\" style=\"fill:#35193e;\"/>\r\n    <path clip-path=\"url(#p87dcdd5d55)\" d=\"M 62.140982 7.2 \r\nL 100.403839 7.2 \r\nL 100.403839 38.262857 \r\nL 62.140982 38.262857 \r\nL 62.140982 7.2 \r\n\" style=\"fill:#35193e;\"/>\r\n    <path clip-path=\"url(#p87dcdd5d55)\" d=\"M 100.403839 7.2 \r\nL 138.666696 7.2 \r\nL 138.666696 38.262857 \r\nL 100.403839 38.262857 \r\nL 100.403839 7.2 \r\n\" style=\"fill:#5c1e51;\"/>\r\n    <path clip-path=\"url(#p87dcdd5d55)\" d=\"M 138.666696 7.2 \r\nL 176.929554 7.2 \r\nL 176.929554 38.262857 \r\nL 138.666696 38.262857 \r\nL 138.666696 7.2 \r\n\" style=\"fill:#03051a;\"/>\r\n    <path clip-path=\"url(#p87dcdd5d55)\" d=\"M 176.929554 7.2 \r\nL 215.192411 7.2 \r\nL 215.192411 38.262857 \r\nL 176.929554 38.262857 \r\nL 176.929554 7.2 \r\n\" style=\"fill:#751f58;\"/>\r\n    <path clip-path=\"url(#p87dcdd5d55)\" d=\"M 215.192411 7.2 \r\nL 253.455268 7.2 \r\nL 253.455268 38.262857 \r\nL 215.192411 38.262857 \r\nL 215.192411 7.2 \r\n\" style=\"fill:#35193e;\"/>\r\n    <path clip-path=\"url(#p87dcdd5d55)\" d=\"M 253.455268 7.2 \r\nL 291.718125 7.2 \r\nL 291.718125 38.262857 \r\nL 253.455268 38.262857 \r\nL 253.455268 7.2 \r\n\" style=\"fill:#691f55;\"/>\r\n    <path clip-path=\"url(#p87dcdd5d55)\" d=\"M 23.878125 38.262857 \r\nL 62.140982 38.262857 \r\nL 62.140982 69.325714 \r\nL 23.878125 69.325714 \r\nL 23.878125 38.262857 \r\n\" style=\"fill:#f7c2a2;\"/>\r\n    <path clip-path=\"url(#p87dcdd5d55)\" d=\"M 62.140982 38.262857 \r\nL 100.403839 38.262857 \r\nL 100.403839 69.325714 \r\nL 62.140982 69.325714 \r\nL 62.140982 38.262857 \r\n\" style=\"fill:#f6bf9d;\"/>\r\n    <path clip-path=\"url(#p87dcdd5d55)\" d=\"M 100.403839 38.262857 \r\nL 138.666696 38.262857 \r\nL 138.666696 69.325714 \r\nL 100.403839 69.325714 \r\nL 100.403839 38.262857 \r\n\" style=\"fill:#f6bc99;\"/>\r\n    <path clip-path=\"url(#p87dcdd5d55)\" d=\"M 138.666696 38.262857 \r\nL 176.929554 38.262857 \r\nL 176.929554 69.325714 \r\nL 138.666696 69.325714 \r\nL 138.666696 38.262857 \r\n\" style=\"fill:#f6be9b;\"/>\r\n    <path clip-path=\"url(#p87dcdd5d55)\" d=\"M 176.929554 38.262857 \r\nL 215.192411 38.262857 \r\nL 215.192411 69.325714 \r\nL 176.929554 69.325714 \r\nL 176.929554 38.262857 \r\n\" style=\"fill:#f6bf9d;\"/>\r\n    <path clip-path=\"url(#p87dcdd5d55)\" d=\"M 215.192411 38.262857 \r\nL 253.455268 38.262857 \r\nL 253.455268 69.325714 \r\nL 215.192411 69.325714 \r\nL 215.192411 38.262857 \r\n\" style=\"fill:#f6b38d;\"/>\r\n    <path clip-path=\"url(#p87dcdd5d55)\" d=\"M 253.455268 38.262857 \r\nL 291.718125 38.262857 \r\nL 291.718125 69.325714 \r\nL 253.455268 69.325714 \r\nL 253.455268 38.262857 \r\n\" style=\"fill:#f6b48f;\"/>\r\n    <path clip-path=\"url(#p87dcdd5d55)\" d=\"M 23.878125 69.325714 \r\nL 62.140982 69.325714 \r\nL 62.140982 100.388571 \r\nL 23.878125 100.388571 \r\nL 23.878125 69.325714 \r\n\" style=\"fill:#f8d1b8;\"/>\r\n    <path clip-path=\"url(#p87dcdd5d55)\" d=\"M 62.140982 69.325714 \r\nL 100.403839 69.325714 \r\nL 100.403839 100.388571 \r\nL 62.140982 100.388571 \r\nL 62.140982 69.325714 \r\n\" style=\"fill:#f8d6be;\"/>\r\n    <path clip-path=\"url(#p87dcdd5d55)\" d=\"M 100.403839 69.325714 \r\nL 138.666696 69.325714 \r\nL 138.666696 100.388571 \r\nL 100.403839 100.388571 \r\nL 100.403839 69.325714 \r\n\" style=\"fill:#f8d3ba;\"/>\r\n    <path clip-path=\"url(#p87dcdd5d55)\" d=\"M 138.666696 69.325714 \r\nL 176.929554 69.325714 \r\nL 176.929554 100.388571 \r\nL 138.666696 100.388571 \r\nL 138.666696 69.325714 \r\n\" style=\"fill:#f7c2a2;\"/>\r\n    <path clip-path=\"url(#p87dcdd5d55)\" d=\"M 176.929554 69.325714 \r\nL 215.192411 69.325714 \r\nL 215.192411 100.388571 \r\nL 176.929554 100.388571 \r\nL 176.929554 69.325714 \r\n\" style=\"fill:#f7cdb1;\"/>\r\n    <path clip-path=\"url(#p87dcdd5d55)\" d=\"M 215.192411 69.325714 \r\nL 253.455268 69.325714 \r\nL 253.455268 100.388571 \r\nL 215.192411 100.388571 \r\nL 215.192411 69.325714 \r\n\" style=\"fill:#f6be9b;\"/>\r\n    <path clip-path=\"url(#p87dcdd5d55)\" d=\"M 253.455268 69.325714 \r\nL 291.718125 69.325714 \r\nL 291.718125 100.388571 \r\nL 253.455268 100.388571 \r\nL 253.455268 69.325714 \r\n\" style=\"fill:#f7d0b5;\"/>\r\n    <path clip-path=\"url(#p87dcdd5d55)\" d=\"M 23.878125 100.388571 \r\nL 62.140982 100.388571 \r\nL 62.140982 131.451429 \r\nL 23.878125 131.451429 \r\nL 23.878125 100.388571 \r\n\" style=\"fill:#f9ddc9;\"/>\r\n    <path clip-path=\"url(#p87dcdd5d55)\" d=\"M 62.140982 100.388571 \r\nL 100.403839 100.388571 \r\nL 100.403839 131.451429 \r\nL 62.140982 131.451429 \r\nL 62.140982 100.388571 \r\n\" style=\"fill:#f6be9b;\"/>\r\n    <path clip-path=\"url(#p87dcdd5d55)\" d=\"M 100.403839 100.388571 \r\nL 138.666696 100.388571 \r\nL 138.666696 131.451429 \r\nL 100.403839 131.451429 \r\nL 100.403839 100.388571 \r\n\" style=\"fill:#f8d3ba;\"/>\r\n    <path clip-path=\"url(#p87dcdd5d55)\" d=\"M 138.666696 100.388571 \r\nL 176.929554 100.388571 \r\nL 176.929554 131.451429 \r\nL 138.666696 131.451429 \r\nL 138.666696 100.388571 \r\n\" style=\"fill:#f8d7c0;\"/>\r\n    <path clip-path=\"url(#p87dcdd5d55)\" d=\"M 176.929554 100.388571 \r\nL 215.192411 100.388571 \r\nL 215.192411 131.451429 \r\nL 176.929554 131.451429 \r\nL 176.929554 100.388571 \r\n\" style=\"fill:#f9dfcb;\"/>\r\n    <path clip-path=\"url(#p87dcdd5d55)\" d=\"M 215.192411 100.388571 \r\nL 253.455268 100.388571 \r\nL 253.455268 131.451429 \r\nL 215.192411 131.451429 \r\nL 215.192411 100.388571 \r\n\" style=\"fill:#f7d0b5;\"/>\r\n    <path clip-path=\"url(#p87dcdd5d55)\" d=\"M 253.455268 100.388571 \r\nL 291.718125 100.388571 \r\nL 291.718125 131.451429 \r\nL 253.455268 131.451429 \r\nL 253.455268 100.388571 \r\n\" style=\"fill:#f8dac5;\"/>\r\n    <path clip-path=\"url(#p87dcdd5d55)\" d=\"M 23.878125 131.451429 \r\nL 62.140982 131.451429 \r\nL 62.140982 162.514286 \r\nL 23.878125 162.514286 \r\nL 23.878125 131.451429 \r\n\" style=\"fill:#f8dcc7;\"/>\r\n    <path clip-path=\"url(#p87dcdd5d55)\" d=\"M 62.140982 131.451429 \r\nL 100.403839 131.451429 \r\nL 100.403839 162.514286 \r\nL 62.140982 162.514286 \r\nL 62.140982 131.451429 \r\n\" style=\"fill:#f8d9c3;\"/>\r\n    <path clip-path=\"url(#p87dcdd5d55)\" d=\"M 100.403839 131.451429 \r\nL 138.666696 131.451429 \r\nL 138.666696 162.514286 \r\nL 100.403839 162.514286 \r\nL 100.403839 131.451429 \r\n\" style=\"fill:#f8d9c3;\"/>\r\n    <path clip-path=\"url(#p87dcdd5d55)\" d=\"M 138.666696 131.451429 \r\nL 176.929554 131.451429 \r\nL 176.929554 162.514286 \r\nL 138.666696 162.514286 \r\nL 138.666696 131.451429 \r\n\" style=\"fill:#fae9da;\"/>\r\n    <path clip-path=\"url(#p87dcdd5d55)\" d=\"M 176.929554 131.451429 \r\nL 215.192411 131.451429 \r\nL 215.192411 162.514286 \r\nL 176.929554 162.514286 \r\nL 176.929554 131.451429 \r\n\" style=\"fill:#fae6d6;\"/>\r\n    <path clip-path=\"url(#p87dcdd5d55)\" d=\"M 215.192411 131.451429 \r\nL 253.455268 131.451429 \r\nL 253.455268 162.514286 \r\nL 215.192411 162.514286 \r\nL 215.192411 131.451429 \r\n\" style=\"fill:#f9e2d0;\"/>\r\n    <path clip-path=\"url(#p87dcdd5d55)\" d=\"M 253.455268 131.451429 \r\nL 291.718125 131.451429 \r\nL 291.718125 162.514286 \r\nL 253.455268 162.514286 \r\nL 253.455268 131.451429 \r\n\" style=\"fill:#f9e2d0;\"/>\r\n    <path clip-path=\"url(#p87dcdd5d55)\" d=\"M 23.878125 162.514286 \r\nL 62.140982 162.514286 \r\nL 62.140982 193.577143 \r\nL 23.878125 193.577143 \r\nL 23.878125 162.514286 \r\n\" style=\"fill:#f8d9c3;\"/>\r\n    <path clip-path=\"url(#p87dcdd5d55)\" d=\"M 62.140982 162.514286 \r\nL 100.403839 162.514286 \r\nL 100.403839 193.577143 \r\nL 62.140982 193.577143 \r\nL 62.140982 162.514286 \r\n\" style=\"fill:#fae6d6;\"/>\r\n    <path clip-path=\"url(#p87dcdd5d55)\" d=\"M 100.403839 162.514286 \r\nL 138.666696 162.514286 \r\nL 138.666696 193.577143 \r\nL 100.403839 193.577143 \r\nL 100.403839 162.514286 \r\n\" style=\"fill:#f7caac;\"/>\r\n    <path clip-path=\"url(#p87dcdd5d55)\" d=\"M 138.666696 162.514286 \r\nL 176.929554 162.514286 \r\nL 176.929554 193.577143 \r\nL 138.666696 193.577143 \r\nL 138.666696 162.514286 \r\n\" style=\"fill:#fae6d6;\"/>\r\n    <path clip-path=\"url(#p87dcdd5d55)\" d=\"M 176.929554 162.514286 \r\nL 215.192411 162.514286 \r\nL 215.192411 193.577143 \r\nL 176.929554 193.577143 \r\nL 176.929554 162.514286 \r\n\" style=\"fill:#f7cfb3;\"/>\r\n    <path clip-path=\"url(#p87dcdd5d55)\" d=\"M 215.192411 162.514286 \r\nL 253.455268 162.514286 \r\nL 253.455268 193.577143 \r\nL 215.192411 193.577143 \r\nL 215.192411 162.514286 \r\n\" style=\"fill:#f9e5d4;\"/>\r\n    <path clip-path=\"url(#p87dcdd5d55)\" d=\"M 253.455268 162.514286 \r\nL 291.718125 162.514286 \r\nL 291.718125 193.577143 \r\nL 253.455268 193.577143 \r\nL 253.455268 162.514286 \r\n\" style=\"fill:#f9e0cd;\"/>\r\n    <path clip-path=\"url(#p87dcdd5d55)\" d=\"M 23.878125 193.577143 \r\nL 62.140982 193.577143 \r\nL 62.140982 224.64 \r\nL 23.878125 224.64 \r\nL 23.878125 193.577143 \r\n\" style=\"fill:#faebdd;\"/>\r\n    <path clip-path=\"url(#p87dcdd5d55)\" d=\"M 62.140982 193.577143 \r\nL 100.403839 193.577143 \r\nL 100.403839 224.64 \r\nL 62.140982 224.64 \r\nL 62.140982 193.577143 \r\n\" style=\"fill:#f8dac5;\"/>\r\n    <path clip-path=\"url(#p87dcdd5d55)\" d=\"M 100.403839 193.577143 \r\nL 138.666696 193.577143 \r\nL 138.666696 224.64 \r\nL 100.403839 224.64 \r\nL 100.403839 193.577143 \r\n\" style=\"fill:#f9e3d2;\"/>\r\n    <path clip-path=\"url(#p87dcdd5d55)\" d=\"M 138.666696 193.577143 \r\nL 176.929554 193.577143 \r\nL 176.929554 224.64 \r\nL 138.666696 224.64 \r\nL 138.666696 193.577143 \r\n\" style=\"fill:#f9e5d4;\"/>\r\n    <path clip-path=\"url(#p87dcdd5d55)\" d=\"M 176.929554 193.577143 \r\nL 215.192411 193.577143 \r\nL 215.192411 224.64 \r\nL 176.929554 224.64 \r\nL 176.929554 193.577143 \r\n\" style=\"fill:#f9ddc9;\"/>\r\n    <path clip-path=\"url(#p87dcdd5d55)\" d=\"M 215.192411 193.577143 \r\nL 253.455268 193.577143 \r\nL 253.455268 224.64 \r\nL 215.192411 224.64 \r\nL 215.192411 193.577143 \r\n\" style=\"fill:#f9e0cd;\"/>\r\n    <path clip-path=\"url(#p87dcdd5d55)\" d=\"M 253.455268 193.577143 \r\nL 291.718125 193.577143 \r\nL 291.718125 224.64 \r\nL 253.455268 224.64 \r\nL 253.455268 193.577143 \r\n\" style=\"fill:#f9e2d0;\"/>\r\n   </g>\r\n   <g id=\"matplotlib.axis_1\">\r\n    <g id=\"xtick_1\">\r\n     <g id=\"line2d_1\">\r\n      <defs>\r\n       <path d=\"M 0 0 \r\nL 0 3.5 \r\n\" id=\"m2bda424487\" style=\"stroke:#000000;stroke-width:0.8;\"/>\r\n      </defs>\r\n      <g>\r\n       <use style=\"stroke:#000000;stroke-width:0.8;\" x=\"43.009554\" xlink:href=\"#m2bda424487\" y=\"224.64\"/>\r\n      </g>\r\n     </g>\r\n     <g id=\"text_1\">\r\n      <!-- 2 -->\r\n      <g transform=\"translate(39.828304 239.238437)scale(0.1 -0.1)\">\r\n       <defs>\r\n        <path d=\"M 19.1875 8.296875 \r\nL 53.609375 8.296875 \r\nL 53.609375 0 \r\nL 7.328125 0 \r\nL 7.328125 8.296875 \r\nQ 12.9375 14.109375 22.625 23.890625 \r\nQ 32.328125 33.6875 34.8125 36.53125 \r\nQ 39.546875 41.84375 41.421875 45.53125 \r\nQ 43.3125 49.21875 43.3125 52.78125 \r\nQ 43.3125 58.59375 39.234375 62.25 \r\nQ 35.15625 65.921875 28.609375 65.921875 \r\nQ 23.96875 65.921875 18.8125 64.3125 \r\nQ 13.671875 62.703125 7.8125 59.421875 \r\nL 7.8125 69.390625 \r\nQ 13.765625 71.78125 18.9375 73 \r\nQ 24.125 74.21875 28.421875 74.21875 \r\nQ 39.75 74.21875 46.484375 68.546875 \r\nQ 53.21875 62.890625 53.21875 53.421875 \r\nQ 53.21875 48.921875 51.53125 44.890625 \r\nQ 49.859375 40.875 45.40625 35.40625 \r\nQ 44.1875 33.984375 37.640625 27.21875 \r\nQ 31.109375 20.453125 19.1875 8.296875 \r\nz\r\n\" id=\"DejaVuSans-50\"/>\r\n       </defs>\r\n       <use xlink:href=\"#DejaVuSans-50\"/>\r\n      </g>\r\n     </g>\r\n    </g>\r\n    <g id=\"xtick_2\">\r\n     <g id=\"line2d_2\">\r\n      <g>\r\n       <use style=\"stroke:#000000;stroke-width:0.8;\" x=\"81.272411\" xlink:href=\"#m2bda424487\" y=\"224.64\"/>\r\n      </g>\r\n     </g>\r\n     <g id=\"text_2\">\r\n      <!-- 10 -->\r\n      <g transform=\"translate(74.909911 239.238437)scale(0.1 -0.1)\">\r\n       <defs>\r\n        <path d=\"M 12.40625 8.296875 \r\nL 28.515625 8.296875 \r\nL 28.515625 63.921875 \r\nL 10.984375 60.40625 \r\nL 10.984375 69.390625 \r\nL 28.421875 72.90625 \r\nL 38.28125 72.90625 \r\nL 38.28125 8.296875 \r\nL 54.390625 8.296875 \r\nL 54.390625 0 \r\nL 12.40625 0 \r\nz\r\n\" id=\"DejaVuSans-49\"/>\r\n        <path d=\"M 31.78125 66.40625 \r\nQ 24.171875 66.40625 20.328125 58.90625 \r\nQ 16.5 51.421875 16.5 36.375 \r\nQ 16.5 21.390625 20.328125 13.890625 \r\nQ 24.171875 6.390625 31.78125 6.390625 \r\nQ 39.453125 6.390625 43.28125 13.890625 \r\nQ 47.125 21.390625 47.125 36.375 \r\nQ 47.125 51.421875 43.28125 58.90625 \r\nQ 39.453125 66.40625 31.78125 66.40625 \r\nz\r\nM 31.78125 74.21875 \r\nQ 44.046875 74.21875 50.515625 64.515625 \r\nQ 56.984375 54.828125 56.984375 36.375 \r\nQ 56.984375 17.96875 50.515625 8.265625 \r\nQ 44.046875 -1.421875 31.78125 -1.421875 \r\nQ 19.53125 -1.421875 13.0625 8.265625 \r\nQ 6.59375 17.96875 6.59375 36.375 \r\nQ 6.59375 54.828125 13.0625 64.515625 \r\nQ 19.53125 74.21875 31.78125 74.21875 \r\nz\r\n\" id=\"DejaVuSans-48\"/>\r\n       </defs>\r\n       <use xlink:href=\"#DejaVuSans-49\"/>\r\n       <use x=\"63.623047\" xlink:href=\"#DejaVuSans-48\"/>\r\n      </g>\r\n     </g>\r\n    </g>\r\n    <g id=\"xtick_3\">\r\n     <g id=\"line2d_3\">\r\n      <g>\r\n       <use style=\"stroke:#000000;stroke-width:0.8;\" x=\"119.535268\" xlink:href=\"#m2bda424487\" y=\"224.64\"/>\r\n      </g>\r\n     </g>\r\n     <g id=\"text_3\">\r\n      <!-- 18 -->\r\n      <g transform=\"translate(113.172768 239.238437)scale(0.1 -0.1)\">\r\n       <defs>\r\n        <path d=\"M 31.78125 34.625 \r\nQ 24.75 34.625 20.71875 30.859375 \r\nQ 16.703125 27.09375 16.703125 20.515625 \r\nQ 16.703125 13.921875 20.71875 10.15625 \r\nQ 24.75 6.390625 31.78125 6.390625 \r\nQ 38.8125 6.390625 42.859375 10.171875 \r\nQ 46.921875 13.96875 46.921875 20.515625 \r\nQ 46.921875 27.09375 42.890625 30.859375 \r\nQ 38.875 34.625 31.78125 34.625 \r\nz\r\nM 21.921875 38.8125 \r\nQ 15.578125 40.375 12.03125 44.71875 \r\nQ 8.5 49.078125 8.5 55.328125 \r\nQ 8.5 64.0625 14.71875 69.140625 \r\nQ 20.953125 74.21875 31.78125 74.21875 \r\nQ 42.671875 74.21875 48.875 69.140625 \r\nQ 55.078125 64.0625 55.078125 55.328125 \r\nQ 55.078125 49.078125 51.53125 44.71875 \r\nQ 48 40.375 41.703125 38.8125 \r\nQ 48.828125 37.15625 52.796875 32.3125 \r\nQ 56.78125 27.484375 56.78125 20.515625 \r\nQ 56.78125 9.90625 50.3125 4.234375 \r\nQ 43.84375 -1.421875 31.78125 -1.421875 \r\nQ 19.734375 -1.421875 13.25 4.234375 \r\nQ 6.78125 9.90625 6.78125 20.515625 \r\nQ 6.78125 27.484375 10.78125 32.3125 \r\nQ 14.796875 37.15625 21.921875 38.8125 \r\nz\r\nM 18.3125 54.390625 \r\nQ 18.3125 48.734375 21.84375 45.5625 \r\nQ 25.390625 42.390625 31.78125 42.390625 \r\nQ 38.140625 42.390625 41.71875 45.5625 \r\nQ 45.3125 48.734375 45.3125 54.390625 \r\nQ 45.3125 60.0625 41.71875 63.234375 \r\nQ 38.140625 66.40625 31.78125 66.40625 \r\nQ 25.390625 66.40625 21.84375 63.234375 \r\nQ 18.3125 60.0625 18.3125 54.390625 \r\nz\r\n\" id=\"DejaVuSans-56\"/>\r\n       </defs>\r\n       <use xlink:href=\"#DejaVuSans-49\"/>\r\n       <use x=\"63.623047\" xlink:href=\"#DejaVuSans-56\"/>\r\n      </g>\r\n     </g>\r\n    </g>\r\n    <g id=\"xtick_4\">\r\n     <g id=\"line2d_4\">\r\n      <g>\r\n       <use style=\"stroke:#000000;stroke-width:0.8;\" x=\"157.798125\" xlink:href=\"#m2bda424487\" y=\"224.64\"/>\r\n      </g>\r\n     </g>\r\n     <g id=\"text_4\">\r\n      <!-- 26 -->\r\n      <g transform=\"translate(151.435625 239.238437)scale(0.1 -0.1)\">\r\n       <defs>\r\n        <path d=\"M 33.015625 40.375 \r\nQ 26.375 40.375 22.484375 35.828125 \r\nQ 18.609375 31.296875 18.609375 23.390625 \r\nQ 18.609375 15.53125 22.484375 10.953125 \r\nQ 26.375 6.390625 33.015625 6.390625 \r\nQ 39.65625 6.390625 43.53125 10.953125 \r\nQ 47.40625 15.53125 47.40625 23.390625 \r\nQ 47.40625 31.296875 43.53125 35.828125 \r\nQ 39.65625 40.375 33.015625 40.375 \r\nz\r\nM 52.59375 71.296875 \r\nL 52.59375 62.3125 \r\nQ 48.875 64.0625 45.09375 64.984375 \r\nQ 41.3125 65.921875 37.59375 65.921875 \r\nQ 27.828125 65.921875 22.671875 59.328125 \r\nQ 17.53125 52.734375 16.796875 39.40625 \r\nQ 19.671875 43.65625 24.015625 45.921875 \r\nQ 28.375 48.1875 33.59375 48.1875 \r\nQ 44.578125 48.1875 50.953125 41.515625 \r\nQ 57.328125 34.859375 57.328125 23.390625 \r\nQ 57.328125 12.15625 50.6875 5.359375 \r\nQ 44.046875 -1.421875 33.015625 -1.421875 \r\nQ 20.359375 -1.421875 13.671875 8.265625 \r\nQ 6.984375 17.96875 6.984375 36.375 \r\nQ 6.984375 53.65625 15.1875 63.9375 \r\nQ 23.390625 74.21875 37.203125 74.21875 \r\nQ 40.921875 74.21875 44.703125 73.484375 \r\nQ 48.484375 72.75 52.59375 71.296875 \r\nz\r\n\" id=\"DejaVuSans-54\"/>\r\n       </defs>\r\n       <use xlink:href=\"#DejaVuSans-50\"/>\r\n       <use x=\"63.623047\" xlink:href=\"#DejaVuSans-54\"/>\r\n      </g>\r\n     </g>\r\n    </g>\r\n    <g id=\"xtick_5\">\r\n     <g id=\"line2d_5\">\r\n      <g>\r\n       <use style=\"stroke:#000000;stroke-width:0.8;\" x=\"196.060982\" xlink:href=\"#m2bda424487\" y=\"224.64\"/>\r\n      </g>\r\n     </g>\r\n     <g id=\"text_5\">\r\n      <!-- 34 -->\r\n      <g transform=\"translate(189.698482 239.238437)scale(0.1 -0.1)\">\r\n       <defs>\r\n        <path d=\"M 40.578125 39.3125 \r\nQ 47.65625 37.796875 51.625 33 \r\nQ 55.609375 28.21875 55.609375 21.1875 \r\nQ 55.609375 10.40625 48.1875 4.484375 \r\nQ 40.765625 -1.421875 27.09375 -1.421875 \r\nQ 22.515625 -1.421875 17.65625 -0.515625 \r\nQ 12.796875 0.390625 7.625 2.203125 \r\nL 7.625 11.71875 \r\nQ 11.71875 9.328125 16.59375 8.109375 \r\nQ 21.484375 6.890625 26.8125 6.890625 \r\nQ 36.078125 6.890625 40.9375 10.546875 \r\nQ 45.796875 14.203125 45.796875 21.1875 \r\nQ 45.796875 27.640625 41.28125 31.265625 \r\nQ 36.765625 34.90625 28.71875 34.90625 \r\nL 20.21875 34.90625 \r\nL 20.21875 43.015625 \r\nL 29.109375 43.015625 \r\nQ 36.375 43.015625 40.234375 45.921875 \r\nQ 44.09375 48.828125 44.09375 54.296875 \r\nQ 44.09375 59.90625 40.109375 62.90625 \r\nQ 36.140625 65.921875 28.71875 65.921875 \r\nQ 24.65625 65.921875 20.015625 65.03125 \r\nQ 15.375 64.15625 9.8125 62.3125 \r\nL 9.8125 71.09375 \r\nQ 15.4375 72.65625 20.34375 73.4375 \r\nQ 25.25 74.21875 29.59375 74.21875 \r\nQ 40.828125 74.21875 47.359375 69.109375 \r\nQ 53.90625 64.015625 53.90625 55.328125 \r\nQ 53.90625 49.265625 50.4375 45.09375 \r\nQ 46.96875 40.921875 40.578125 39.3125 \r\nz\r\n\" id=\"DejaVuSans-51\"/>\r\n        <path d=\"M 37.796875 64.3125 \r\nL 12.890625 25.390625 \r\nL 37.796875 25.390625 \r\nz\r\nM 35.203125 72.90625 \r\nL 47.609375 72.90625 \r\nL 47.609375 25.390625 \r\nL 58.015625 25.390625 \r\nL 58.015625 17.1875 \r\nL 47.609375 17.1875 \r\nL 47.609375 0 \r\nL 37.796875 0 \r\nL 37.796875 17.1875 \r\nL 4.890625 17.1875 \r\nL 4.890625 26.703125 \r\nz\r\n\" id=\"DejaVuSans-52\"/>\r\n       </defs>\r\n       <use xlink:href=\"#DejaVuSans-51\"/>\r\n       <use x=\"63.623047\" xlink:href=\"#DejaVuSans-52\"/>\r\n      </g>\r\n     </g>\r\n    </g>\r\n    <g id=\"xtick_6\">\r\n     <g id=\"line2d_6\">\r\n      <g>\r\n       <use style=\"stroke:#000000;stroke-width:0.8;\" x=\"234.323839\" xlink:href=\"#m2bda424487\" y=\"224.64\"/>\r\n      </g>\r\n     </g>\r\n     <g id=\"text_6\">\r\n      <!-- 42 -->\r\n      <g transform=\"translate(227.961339 239.238437)scale(0.1 -0.1)\">\r\n       <use xlink:href=\"#DejaVuSans-52\"/>\r\n       <use x=\"63.623047\" xlink:href=\"#DejaVuSans-50\"/>\r\n      </g>\r\n     </g>\r\n    </g>\r\n    <g id=\"xtick_7\">\r\n     <g id=\"line2d_7\">\r\n      <g>\r\n       <use style=\"stroke:#000000;stroke-width:0.8;\" x=\"272.586696\" xlink:href=\"#m2bda424487\" y=\"224.64\"/>\r\n      </g>\r\n     </g>\r\n     <g id=\"text_7\">\r\n      <!-- 50 -->\r\n      <g transform=\"translate(266.224196 239.238437)scale(0.1 -0.1)\">\r\n       <defs>\r\n        <path d=\"M 10.796875 72.90625 \r\nL 49.515625 72.90625 \r\nL 49.515625 64.59375 \r\nL 19.828125 64.59375 \r\nL 19.828125 46.734375 \r\nQ 21.96875 47.46875 24.109375 47.828125 \r\nQ 26.265625 48.1875 28.421875 48.1875 \r\nQ 40.625 48.1875 47.75 41.5 \r\nQ 54.890625 34.8125 54.890625 23.390625 \r\nQ 54.890625 11.625 47.5625 5.09375 \r\nQ 40.234375 -1.421875 26.90625 -1.421875 \r\nQ 22.3125 -1.421875 17.546875 -0.640625 \r\nQ 12.796875 0.140625 7.71875 1.703125 \r\nL 7.71875 11.625 \r\nQ 12.109375 9.234375 16.796875 8.0625 \r\nQ 21.484375 6.890625 26.703125 6.890625 \r\nQ 35.15625 6.890625 40.078125 11.328125 \r\nQ 45.015625 15.765625 45.015625 23.390625 \r\nQ 45.015625 31 40.078125 35.4375 \r\nQ 35.15625 39.890625 26.703125 39.890625 \r\nQ 22.75 39.890625 18.8125 39.015625 \r\nQ 14.890625 38.140625 10.796875 36.28125 \r\nz\r\n\" id=\"DejaVuSans-53\"/>\r\n       </defs>\r\n       <use xlink:href=\"#DejaVuSans-53\"/>\r\n       <use x=\"63.623047\" xlink:href=\"#DejaVuSans-48\"/>\r\n      </g>\r\n     </g>\r\n    </g>\r\n   </g>\r\n   <g id=\"matplotlib.axis_2\">\r\n    <g id=\"ytick_1\">\r\n     <g id=\"line2d_8\">\r\n      <defs>\r\n       <path d=\"M 0 0 \r\nL -3.5 0 \r\n\" id=\"mbcefa90ab9\" style=\"stroke:#000000;stroke-width:0.8;\"/>\r\n      </defs>\r\n      <g>\r\n       <use style=\"stroke:#000000;stroke-width:0.8;\" x=\"23.878125\" xlink:href=\"#mbcefa90ab9\" y=\"22.731429\"/>\r\n      </g>\r\n     </g>\r\n     <g id=\"text_8\">\r\n      <!-- 2 -->\r\n      <g transform=\"translate(14.798438 25.29471)rotate(-90)scale(0.1 -0.1)\">\r\n       <use xlink:href=\"#DejaVuSans-50\"/>\r\n      </g>\r\n     </g>\r\n    </g>\r\n    <g id=\"ytick_2\">\r\n     <g id=\"line2d_9\">\r\n      <g>\r\n       <use style=\"stroke:#000000;stroke-width:0.8;\" x=\"23.878125\" xlink:href=\"#mbcefa90ab9\" y=\"53.794286\"/>\r\n      </g>\r\n     </g>\r\n     <g id=\"text_9\">\r\n      <!-- 10 -->\r\n      <g transform=\"translate(14.798438 62.720067)rotate(-90)scale(0.1 -0.1)\">\r\n       <use xlink:href=\"#DejaVuSans-49\"/>\r\n       <use x=\"63.623047\" xlink:href=\"#DejaVuSans-48\"/>\r\n      </g>\r\n     </g>\r\n    </g>\r\n    <g id=\"ytick_3\">\r\n     <g id=\"line2d_10\">\r\n      <g>\r\n       <use style=\"stroke:#000000;stroke-width:0.8;\" x=\"23.878125\" xlink:href=\"#mbcefa90ab9\" y=\"84.857143\"/>\r\n      </g>\r\n     </g>\r\n     <g id=\"text_10\">\r\n      <!-- 18 -->\r\n      <g transform=\"translate(14.798438 93.782924)rotate(-90)scale(0.1 -0.1)\">\r\n       <use xlink:href=\"#DejaVuSans-49\"/>\r\n       <use x=\"63.623047\" xlink:href=\"#DejaVuSans-56\"/>\r\n      </g>\r\n     </g>\r\n    </g>\r\n    <g id=\"ytick_4\">\r\n     <g id=\"line2d_11\">\r\n      <g>\r\n       <use style=\"stroke:#000000;stroke-width:0.8;\" x=\"23.878125\" xlink:href=\"#mbcefa90ab9\" y=\"115.92\"/>\r\n      </g>\r\n     </g>\r\n     <g id=\"text_11\">\r\n      <!-- 26 -->\r\n      <g transform=\"translate(14.798438 124.845781)rotate(-90)scale(0.1 -0.1)\">\r\n       <use xlink:href=\"#DejaVuSans-50\"/>\r\n       <use x=\"63.623047\" xlink:href=\"#DejaVuSans-54\"/>\r\n      </g>\r\n     </g>\r\n    </g>\r\n    <g id=\"ytick_5\">\r\n     <g id=\"line2d_12\">\r\n      <g>\r\n       <use style=\"stroke:#000000;stroke-width:0.8;\" x=\"23.878125\" xlink:href=\"#mbcefa90ab9\" y=\"146.982857\"/>\r\n      </g>\r\n     </g>\r\n     <g id=\"text_12\">\r\n      <!-- 34 -->\r\n      <g transform=\"translate(14.798438 155.908638)rotate(-90)scale(0.1 -0.1)\">\r\n       <use xlink:href=\"#DejaVuSans-51\"/>\r\n       <use x=\"63.623047\" xlink:href=\"#DejaVuSans-52\"/>\r\n      </g>\r\n     </g>\r\n    </g>\r\n    <g id=\"ytick_6\">\r\n     <g id=\"line2d_13\">\r\n      <g>\r\n       <use style=\"stroke:#000000;stroke-width:0.8;\" x=\"23.878125\" xlink:href=\"#mbcefa90ab9\" y=\"178.045714\"/>\r\n      </g>\r\n     </g>\r\n     <g id=\"text_13\">\r\n      <!-- 42 -->\r\n      <g transform=\"translate(14.798438 186.971496)rotate(-90)scale(0.1 -0.1)\">\r\n       <use xlink:href=\"#DejaVuSans-52\"/>\r\n       <use x=\"63.623047\" xlink:href=\"#DejaVuSans-50\"/>\r\n      </g>\r\n     </g>\r\n    </g>\r\n    <g id=\"ytick_7\">\r\n     <g id=\"line2d_14\">\r\n      <g>\r\n       <use style=\"stroke:#000000;stroke-width:0.8;\" x=\"23.878125\" xlink:href=\"#mbcefa90ab9\" y=\"209.108571\"/>\r\n      </g>\r\n     </g>\r\n     <g id=\"text_14\">\r\n      <!-- 50 -->\r\n      <g transform=\"translate(14.798438 218.034353)rotate(-90)scale(0.1 -0.1)\">\r\n       <use xlink:href=\"#DejaVuSans-53\"/>\r\n       <use x=\"63.623047\" xlink:href=\"#DejaVuSans-48\"/>\r\n      </g>\r\n     </g>\r\n    </g>\r\n   </g>\r\n  </g>\r\n  <g id=\"axes_2\">\r\n   <g id=\"patch_3\">\r\n    <path clip-path=\"url(#pf9884c947b)\" d=\"M 308.458125 224.64 \r\nL 308.458125 223.790625 \r\nL 308.458125 8.049375 \r\nL 308.458125 7.2 \r\nL 319.330125 7.2 \r\nL 319.330125 8.049375 \r\nL 319.330125 223.790625 \r\nL 319.330125 224.64 \r\nz\r\n\" style=\"fill:#ffffff;stroke:#ffffff;stroke-linejoin:miter;stroke-width:0.01;\"/>\r\n   </g>\r\n   <image height=\"217\" id=\"imagedeec0f8ef9\" transform=\"scale(1 -1)translate(0 -217)\" width=\"11\" x=\"308\" xlink:href=\"data:image/png;base64,\r\niVBORw0KGgoAAAANSUhEUgAAAAsAAADZCAYAAAD2WsoCAAABX0lEQVR4nNWa2w0DMQjAeN0S3X/OXlfAH5ZovhEyhqS5qDnP543lmszcxtLgAMFdJWUurcAiGCgzsuFhHPHc6dk4MXWoQLEpNzKb7dZsaBgTaDb2y5wNrd0QY7/Mk58EjzZIzIbXbm9brUPp8HvqoA2AIarTmJGNI8wIg+1ukpkVuP48+FsbJJjY8DDmBgZrN2EehHHEhoYx7z61uAfrBgaykWExwwIBRjNmEgxEi+oSnAXTJLhIMMKAmdexMV1fKbNYIDjsGHM1sAGZAQZSJ9oYbTYQs6auwFWGYYQ3G14wuPeQxx6qjmUGN3OWGdwLJgiGx8wwwM8mzEyeLFBmGEze6zQbQZ4NPRtJbES3hIGa4nnO0QoU200yoz0IPnlVG6SDHgaywc461EFLHdzdGoZXIMrcaPhvMLN2o3nWNmzemDrRBinwxvBnP1Jmc/iJZ9Ju9C+LKwWydmtnnVXgD2R4KiPLLY7SAAAAAElFTkSuQmCC\" y=\"-7\"/>\r\n   <g id=\"matplotlib.axis_3\"/>\r\n   <g id=\"matplotlib.axis_4\">\r\n    <g id=\"ytick_8\">\r\n     <g id=\"line2d_15\">\r\n      <defs>\r\n       <path d=\"M 0 0 \r\nL 3.5 0 \r\n\" id=\"m10f33ebbc0\" style=\"stroke:#000000;stroke-width:0.8;\"/>\r\n      </defs>\r\n      <g>\r\n       <use style=\"stroke:#000000;stroke-width:0.8;\" x=\"319.330125\" xlink:href=\"#m10f33ebbc0\" y=\"213.143182\"/>\r\n      </g>\r\n     </g>\r\n     <g id=\"text_15\">\r\n      <!-- 0.675 -->\r\n      <g transform=\"translate(326.330125 216.942401)scale(0.1 -0.1)\">\r\n       <defs>\r\n        <path d=\"M 10.6875 12.40625 \r\nL 21 12.40625 \r\nL 21 0 \r\nL 10.6875 0 \r\nz\r\n\" id=\"DejaVuSans-46\"/>\r\n        <path d=\"M 8.203125 72.90625 \r\nL 55.078125 72.90625 \r\nL 55.078125 68.703125 \r\nL 28.609375 0 \r\nL 18.3125 0 \r\nL 43.21875 64.59375 \r\nL 8.203125 64.59375 \r\nz\r\n\" id=\"DejaVuSans-55\"/>\r\n       </defs>\r\n       <use xlink:href=\"#DejaVuSans-48\"/>\r\n       <use x=\"63.623047\" xlink:href=\"#DejaVuSans-46\"/>\r\n       <use x=\"95.410156\" xlink:href=\"#DejaVuSans-54\"/>\r\n       <use x=\"159.033203\" xlink:href=\"#DejaVuSans-55\"/>\r\n       <use x=\"222.65625\" xlink:href=\"#DejaVuSans-53\"/>\r\n      </g>\r\n     </g>\r\n    </g>\r\n    <g id=\"ytick_9\">\r\n     <g id=\"line2d_16\">\r\n      <g>\r\n       <use style=\"stroke:#000000;stroke-width:0.8;\" x=\"319.330125\" xlink:href=\"#m10f33ebbc0\" y=\"188.150075\"/>\r\n      </g>\r\n     </g>\r\n     <g id=\"text_16\">\r\n      <!-- 0.700 -->\r\n      <g transform=\"translate(326.330125 191.949294)scale(0.1 -0.1)\">\r\n       <use xlink:href=\"#DejaVuSans-48\"/>\r\n       <use x=\"63.623047\" xlink:href=\"#DejaVuSans-46\"/>\r\n       <use x=\"95.410156\" xlink:href=\"#DejaVuSans-55\"/>\r\n       <use x=\"159.033203\" xlink:href=\"#DejaVuSans-48\"/>\r\n       <use x=\"222.65625\" xlink:href=\"#DejaVuSans-48\"/>\r\n      </g>\r\n     </g>\r\n    </g>\r\n    <g id=\"ytick_10\">\r\n     <g id=\"line2d_17\">\r\n      <g>\r\n       <use style=\"stroke:#000000;stroke-width:0.8;\" x=\"319.330125\" xlink:href=\"#m10f33ebbc0\" y=\"163.156968\"/>\r\n      </g>\r\n     </g>\r\n     <g id=\"text_17\">\r\n      <!-- 0.725 -->\r\n      <g transform=\"translate(326.330125 166.956187)scale(0.1 -0.1)\">\r\n       <use xlink:href=\"#DejaVuSans-48\"/>\r\n       <use x=\"63.623047\" xlink:href=\"#DejaVuSans-46\"/>\r\n       <use x=\"95.410156\" xlink:href=\"#DejaVuSans-55\"/>\r\n       <use x=\"159.033203\" xlink:href=\"#DejaVuSans-50\"/>\r\n       <use x=\"222.65625\" xlink:href=\"#DejaVuSans-53\"/>\r\n      </g>\r\n     </g>\r\n    </g>\r\n    <g id=\"ytick_11\">\r\n     <g id=\"line2d_18\">\r\n      <g>\r\n       <use style=\"stroke:#000000;stroke-width:0.8;\" x=\"319.330125\" xlink:href=\"#m10f33ebbc0\" y=\"138.163862\"/>\r\n      </g>\r\n     </g>\r\n     <g id=\"text_18\">\r\n      <!-- 0.750 -->\r\n      <g transform=\"translate(326.330125 141.96308)scale(0.1 -0.1)\">\r\n       <use xlink:href=\"#DejaVuSans-48\"/>\r\n       <use x=\"63.623047\" xlink:href=\"#DejaVuSans-46\"/>\r\n       <use x=\"95.410156\" xlink:href=\"#DejaVuSans-55\"/>\r\n       <use x=\"159.033203\" xlink:href=\"#DejaVuSans-53\"/>\r\n       <use x=\"222.65625\" xlink:href=\"#DejaVuSans-48\"/>\r\n      </g>\r\n     </g>\r\n    </g>\r\n    <g id=\"ytick_12\">\r\n     <g id=\"line2d_19\">\r\n      <g>\r\n       <use style=\"stroke:#000000;stroke-width:0.8;\" x=\"319.330125\" xlink:href=\"#m10f33ebbc0\" y=\"113.170755\"/>\r\n      </g>\r\n     </g>\r\n     <g id=\"text_19\">\r\n      <!-- 0.775 -->\r\n      <g transform=\"translate(326.330125 116.969974)scale(0.1 -0.1)\">\r\n       <use xlink:href=\"#DejaVuSans-48\"/>\r\n       <use x=\"63.623047\" xlink:href=\"#DejaVuSans-46\"/>\r\n       <use x=\"95.410156\" xlink:href=\"#DejaVuSans-55\"/>\r\n       <use x=\"159.033203\" xlink:href=\"#DejaVuSans-55\"/>\r\n       <use x=\"222.65625\" xlink:href=\"#DejaVuSans-53\"/>\r\n      </g>\r\n     </g>\r\n    </g>\r\n    <g id=\"ytick_13\">\r\n     <g id=\"line2d_20\">\r\n      <g>\r\n       <use style=\"stroke:#000000;stroke-width:0.8;\" x=\"319.330125\" xlink:href=\"#m10f33ebbc0\" y=\"88.177648\"/>\r\n      </g>\r\n     </g>\r\n     <g id=\"text_20\">\r\n      <!-- 0.800 -->\r\n      <g transform=\"translate(326.330125 91.976867)scale(0.1 -0.1)\">\r\n       <use xlink:href=\"#DejaVuSans-48\"/>\r\n       <use x=\"63.623047\" xlink:href=\"#DejaVuSans-46\"/>\r\n       <use x=\"95.410156\" xlink:href=\"#DejaVuSans-56\"/>\r\n       <use x=\"159.033203\" xlink:href=\"#DejaVuSans-48\"/>\r\n       <use x=\"222.65625\" xlink:href=\"#DejaVuSans-48\"/>\r\n      </g>\r\n     </g>\r\n    </g>\r\n    <g id=\"ytick_14\">\r\n     <g id=\"line2d_21\">\r\n      <g>\r\n       <use style=\"stroke:#000000;stroke-width:0.8;\" x=\"319.330125\" xlink:href=\"#m10f33ebbc0\" y=\"63.184541\"/>\r\n      </g>\r\n     </g>\r\n     <g id=\"text_21\">\r\n      <!-- 0.825 -->\r\n      <g transform=\"translate(326.330125 66.98376)scale(0.1 -0.1)\">\r\n       <use xlink:href=\"#DejaVuSans-48\"/>\r\n       <use x=\"63.623047\" xlink:href=\"#DejaVuSans-46\"/>\r\n       <use x=\"95.410156\" xlink:href=\"#DejaVuSans-56\"/>\r\n       <use x=\"159.033203\" xlink:href=\"#DejaVuSans-50\"/>\r\n       <use x=\"222.65625\" xlink:href=\"#DejaVuSans-53\"/>\r\n      </g>\r\n     </g>\r\n    </g>\r\n    <g id=\"ytick_15\">\r\n     <g id=\"line2d_22\">\r\n      <g>\r\n       <use style=\"stroke:#000000;stroke-width:0.8;\" x=\"319.330125\" xlink:href=\"#m10f33ebbc0\" y=\"38.191435\"/>\r\n      </g>\r\n     </g>\r\n     <g id=\"text_22\">\r\n      <!-- 0.850 -->\r\n      <g transform=\"translate(326.330125 41.990653)scale(0.1 -0.1)\">\r\n       <use xlink:href=\"#DejaVuSans-48\"/>\r\n       <use x=\"63.623047\" xlink:href=\"#DejaVuSans-46\"/>\r\n       <use x=\"95.410156\" xlink:href=\"#DejaVuSans-56\"/>\r\n       <use x=\"159.033203\" xlink:href=\"#DejaVuSans-53\"/>\r\n       <use x=\"222.65625\" xlink:href=\"#DejaVuSans-48\"/>\r\n      </g>\r\n     </g>\r\n    </g>\r\n    <g id=\"ytick_16\">\r\n     <g id=\"line2d_23\">\r\n      <g>\r\n       <use style=\"stroke:#000000;stroke-width:0.8;\" x=\"319.330125\" xlink:href=\"#m10f33ebbc0\" y=\"13.198328\"/>\r\n      </g>\r\n     </g>\r\n     <g id=\"text_23\">\r\n      <!-- 0.875 -->\r\n      <g transform=\"translate(326.330125 16.997547)scale(0.1 -0.1)\">\r\n       <use xlink:href=\"#DejaVuSans-48\"/>\r\n       <use x=\"63.623047\" xlink:href=\"#DejaVuSans-46\"/>\r\n       <use x=\"95.410156\" xlink:href=\"#DejaVuSans-56\"/>\r\n       <use x=\"159.033203\" xlink:href=\"#DejaVuSans-55\"/>\r\n       <use x=\"222.65625\" xlink:href=\"#DejaVuSans-53\"/>\r\n      </g>\r\n     </g>\r\n    </g>\r\n   </g>\r\n   <g id=\"patch_4\">\r\n    <path d=\"M 308.458125 224.64 \r\nL 308.458125 223.790625 \r\nL 308.458125 8.049375 \r\nL 308.458125 7.2 \r\nL 319.330125 7.2 \r\nL 319.330125 8.049375 \r\nL 319.330125 223.790625 \r\nL 319.330125 224.64 \r\nz\r\n\" style=\"fill:none;\"/>\r\n   </g>\r\n  </g>\r\n </g>\r\n <defs>\r\n  <clipPath id=\"p87dcdd5d55\">\r\n   <rect height=\"217.44\" width=\"267.84\" x=\"23.878125\" y=\"7.2\"/>\r\n  </clipPath>\r\n  <clipPath id=\"pf9884c947b\">\r\n   <rect height=\"217.44\" width=\"10.872\" x=\"308.458125\" y=\"7.2\"/>\r\n  </clipPath>\r\n </defs>\r\n</svg>\r\n",
      "image/png": "[encoded data removed]"
     },
     "metadata": {
      "needs_background": "light"
     }
    }
   ],
   "source": [
    "sns.heatmap(result1)"
   ]
  },
  {
   "source": [
    "Видно что размер первго слоя более критичен чем размер второго слоя, так как видимо прим маленьком первом скрытоом слое, мы теряем слишком много информации, которую уже потом не восстановить. Вообще кажется разумным что если мы имеем входные данные большого размера, а на выходе всего несколько классов. То разумно делать слои постепенно уменьшаюзиеся от входного размера к выходному. Это будет своеобразное выделение признаков на каждом уровне, и потом оъединение их в более общие признаки на последующих."
   ],
   "cell_type": "markdown",
   "metadata": {}
  },
  {
   "source": [
    "def num_of_params(shape):\n",
    "    shape.insert(0, 784)\n",
    "    shape.append(10)\n",
    "    result = 0\n",
    "    for i in range(len(shape) - 1):\n",
    "        result += shape[i] * shape[i+1]\n",
    "    result += sum(shape)\n",
    "    return result"
   ],
   "cell_type": "code",
   "metadata": {},
   "execution_count": 21,
   "outputs": []
  },
  {
   "cell_type": "code",
   "execution_count": 22,
   "metadata": {},
   "outputs": [
    {
     "output_type": "execute_result",
     "data": {
      "text/plain": [
       "264244"
      ]
     },
     "metadata": {},
     "execution_count": 22
    }
   ],
   "source": [
    "\n",
    "num_of_params([280, 150])"
   ]
  },
  {
   "cell_type": "code",
   "execution_count": 23,
   "metadata": {},
   "outputs": [
    {
     "output_type": "execute_result",
     "data": {
      "text/plain": [
       "266274"
      ]
     },
     "metadata": {},
     "execution_count": 23
    }
   ],
   "source": [
    "num_of_params([270,  150, 80])"
   ]
  },
  {
   "cell_type": "code",
   "execution_count": 24,
   "metadata": {},
   "outputs": [
    {
     "output_type": "execute_result",
     "data": {
      "text/plain": [
       "261699"
      ]
     },
     "metadata": {},
     "execution_count": 24
    }
   ],
   "source": [
    "num_of_params([260, 150, 80, 50, 25])"
   ]
  },
  {
   "cell_type": "code",
   "execution_count": 25,
   "metadata": {},
   "outputs": [
    {
     "output_type": "execute_result",
     "data": {
      "text/plain": [
       "262604"
      ]
     },
     "metadata": {},
     "execution_count": 25
    }
   ],
   "source": [
    "num_of_params([230, 130, 110, 100 , 90, 80, 60, 40, 30, 20 ])"
   ]
  },
  {
   "cell_type": "code",
   "execution_count": 26,
   "metadata": {},
   "outputs": [],
   "source": [
    "shapes = [[280, 150], [270,  150, 80], [260, 150, 80, 50, 25], [230, 130, 110, 100 , 90, 80, 60, 40, 30, 20 ]]"
   ]
  },
  {
   "cell_type": "code",
   "execution_count": 27,
   "metadata": {},
   "outputs": [
    {
     "output_type": "execute_result",
     "data": {
      "text/plain": [
       "[[280, 150],\n",
       " [270, 150, 80],\n",
       " [260, 150, 80, 50, 25],\n",
       " [230, 130, 110, 100, 90, 80, 60, 40, 30, 20]]"
      ]
     },
     "metadata": {},
     "execution_count": 27
    }
   ],
   "source": [
    "shapes"
   ]
  },
  {
   "cell_type": "code",
   "execution_count": 29,
   "metadata": {},
   "outputs": [
    {
     "output_type": "display_data",
     "data": {
      "text/plain": "HBox(children=(HTML(value=''), FloatProgress(value=0.0, max=4.0), HTML(value='')))",
      "application/vnd.jupyter.widget-view+json": {
       "version_major": 2,
       "version_minor": 0,
       "model_id": "99415d203ad142acb7bf7d972d3f8dec"
      }
     },
     "metadata": {}
    },
    {
     "output_type": "stream",
     "name": "stdout",
     "text": [
      "\n"
     ]
    }
   ],
   "source": [
    "histories = model_fit(X_train, y_t, shapes)"
   ]
  },
  {
   "cell_type": "code",
   "execution_count": 30,
   "metadata": {},
   "outputs": [
    {
     "output_type": "stream",
     "name": "stdout",
     "text": [
      "hiden layers: [280, 150]\n val accuracy 0.8794999718666077\nhiden layers: [270, 150, 80]\n val accuracy 0.8805833458900452\nhiden layers: [260, 150, 80, 50, 25]\n val accuracy 0.8665000200271606\nhiden layers: [230, 130, 110, 100, 90, 80, 60, 40, 30, 20]\n val accuracy 0.8619999885559082\n"
     ]
    }
   ],
   "source": [
    "for h in histories:\n",
    "    print(f'hiden layers: {h[0]}\\n', f'val accuracy {h[1].history[\"val_accuracy\"][-1]}')"
   ]
  },
  {
   "source": [
    "Качество модели падает с увеличение количества слоев. Хотя на основе даного эксперимента можно только сделать вывод? что конкретно сетки такой структуры обучились хуже чем сетки дркугой структуры(если еще не учитывать разброс в обучении, хотя он не очень большой). Слишком мало опытов для смелого вывода в начале."
   ],
   "cell_type": "markdown",
   "metadata": {}
  },
  {
   "cell_type": "code",
   "execution_count": 31,
   "metadata": {},
   "outputs": [],
   "source": [
    "optimizers = ['Adam', 'RMSProp', 'SGD']"
   ]
  },
  {
   "cell_type": "code",
   "execution_count": 34,
   "metadata": {},
   "outputs": [
    {
     "output_type": "display_data",
     "data": {
      "text/plain": "HBox(children=(HTML(value=''), FloatProgress(value=0.0, max=1.0), HTML(value='')))",
      "application/vnd.jupyter.widget-view+json": {
       "version_major": 2,
       "version_minor": 0,
       "model_id": "cdec38af8b1248ca9b2f3f1bc49430f6"
      }
     },
     "metadata": {}
    },
    {
     "output_type": "stream",
     "name": "stdout",
     "text": [
      "\n"
     ]
    },
    {
     "output_type": "display_data",
     "data": {
      "text/plain": "HBox(children=(HTML(value=''), FloatProgress(value=0.0, max=1.0), HTML(value='')))",
      "application/vnd.jupyter.widget-view+json": {
       "version_major": 2,
       "version_minor": 0,
       "model_id": "073aae7499fb4cfa9550079c2daf8980"
      }
     },
     "metadata": {}
    },
    {
     "output_type": "stream",
     "name": "stdout",
     "text": [
      "\n"
     ]
    },
    {
     "output_type": "display_data",
     "data": {
      "text/plain": "HBox(children=(HTML(value=''), FloatProgress(value=0.0, max=1.0), HTML(value='')))",
      "application/vnd.jupyter.widget-view+json": {
       "version_major": 2,
       "version_minor": 0,
       "model_id": "254b62b77d9343edac7fb3c238c1772a"
      }
     },
     "metadata": {}
    },
    {
     "output_type": "stream",
     "name": "stdout",
     "text": [
      "\n"
     ]
    }
   ],
   "source": [
    "histories = []\n",
    "for optimizer in optimizers:\n",
    "    histories.append(model_fit(X_train, y_t, optimizer=optimizer))"
   ]
  },
  {
   "cell_type": "code",
   "execution_count": 35,
   "metadata": {},
   "outputs": [
    {
     "output_type": "stream",
     "name": "stdout",
     "text": [
      "optimizer: Adam\n val accuracy 0.8820833563804626\noptimizer: RMSProp\n val accuracy 0.8732500076293945\noptimizer: SGD\n val accuracy 0.8712499737739563\n"
     ]
    }
   ],
   "source": [
    "for i in range(len(histories)):\n",
    "    print(f'optimizer: {optimizers[i]}\\n', f'val accuracy {histories[i][0][1].history[\"val_accuracy\"][-1]}')"
   ]
  },
  {
   "source": [
    "Лучший оптимайзер в данном случае оказался Adam, но подозреваю, что если учесть близость отвтетов, то в зависимости от выбранных уровней и от кроссвалидации может в другом случае оказаться лучше и другой валидатор."
   ],
   "cell_type": "markdown",
   "metadata": {}
  },
  {
   "source": [
    "Скорей всего лучший выбор в данном варианте будет всего пара слоев с большим количеством нейронов. С оптимизатором Адам."
   ],
   "cell_type": "markdown",
   "metadata": {}
  },
  {
   "source": [
    "Возьмем лучший вариант решения. 2 слоя \\[280, 150\\], оптимизатор Adam."
   ],
   "cell_type": "markdown",
   "metadata": {}
  },
  {
   "cell_type": "code",
   "execution_count": 36,
   "metadata": {},
   "outputs": [
    {
     "output_type": "display_data",
     "data": {
      "text/plain": "HBox(children=(HTML(value=''), FloatProgress(value=0.0, max=1.0), HTML(value='')))",
      "application/vnd.jupyter.widget-view+json": {
       "version_major": 2,
       "version_minor": 0,
       "model_id": "68031c26f5fc4693a9121a17c5ac3784"
      }
     },
     "metadata": {}
    },
    {
     "output_type": "stream",
     "name": "stdout",
     "text": [
      "\n"
     ]
    }
   ],
   "source": [
    "histories, model1 = model_fit(X_train, y_t, shapes=[[280, 150]], optimizer='Adam', ret_model=True)"
   ]
  },
  {
   "cell_type": "code",
   "execution_count": 37,
   "metadata": {},
   "outputs": [
    {
     "output_type": "execute_result",
     "data": {
      "text/plain": [
       "[([280, 150], <tensorflow.python.keras.callbacks.History at 0x220abaec280>)]"
      ]
     },
     "metadata": {},
     "execution_count": 37
    }
   ],
   "source": [
    "histories"
   ]
  },
  {
   "cell_type": "code",
   "execution_count": 38,
   "metadata": {},
   "outputs": [
    {
     "output_type": "execute_result",
     "data": {
      "text/plain": [
       "0.8877500295639038"
      ]
     },
     "metadata": {},
     "execution_count": 38
    }
   ],
   "source": [
    "histories[0][1].history['val_accuracy'][-1]"
   ]
  },
  {
   "cell_type": "code",
   "execution_count": 39,
   "metadata": {},
   "outputs": [],
   "source": [
    "y_test_pred = model1.predict(X_test)"
   ]
  },
  {
   "cell_type": "code",
   "execution_count": 42,
   "metadata": {},
   "outputs": [],
   "source": [
    "from sklearn.metrics import multilabel_confusion_matrix"
   ]
  },
  {
   "cell_type": "code",
   "execution_count": 44,
   "metadata": {},
   "outputs": [],
   "source": [
    "def make_proper_pred(array):\n",
    "    return np.where(array == array.max(), 1, 0)"
   ]
  },
  {
   "cell_type": "code",
   "execution_count": 45,
   "metadata": {},
   "outputs": [],
   "source": [
    " y_pred = np.apply_along_axis(make_proper_pred, 1, y_test_pred)"
   ]
  },
  {
   "cell_type": "code",
   "execution_count": 51,
   "metadata": {},
   "outputs": [
    {
     "output_type": "execute_result",
     "data": {
      "text/plain": [
       "array([[[8816,  184],\n",
       "        [ 163,  837]],\n",
       "\n",
       "       [[8968,   32],\n",
       "        [  18,  982]],\n",
       "\n",
       "       [[8776,  224],\n",
       "        [ 176,  824]],\n",
       "\n",
       "       [[8913,   87],\n",
       "        [ 134,  866]],\n",
       "\n",
       "       [[8817,  183],\n",
       "        [ 202,  798]],\n",
       "\n",
       "       [[8967,   33],\n",
       "        [  52,  948]],\n",
       "\n",
       "       [[8714,  286],\n",
       "        [ 298,  702]],\n",
       "\n",
       "       [[8953,   47],\n",
       "        [ 112,  888]],\n",
       "\n",
       "       [[8978,   22],\n",
       "        [  35,  965]],\n",
       "\n",
       "       [[8884,  116],\n",
       "        [  24,  976]]], dtype=int64)"
      ]
     },
     "metadata": {},
     "execution_count": 51
    }
   ],
   "source": [
    "conf_matrixes = multilabel_confusion_matrix(y_tt, y_pred)\n",
    "conf_matrixes"
   ]
  },
  {
   "cell_type": "code",
   "execution_count": 52,
   "metadata": {},
   "outputs": [],
   "source": [
    "def precision_recall_f1(conf_matrix):\n",
    "    tp = conf_matrix[1,1]\n",
    "    fp = conf_matrix[0,1]\n",
    "    fn = conf_matrix[1,0]\n",
    "\n",
    "    precision = tp / (tp+fp)\n",
    "    recall = tp / (tp+fn)\n",
    "    f1 = 2*precision*recall / (precision + recall)\n",
    "    \n",
    "    return (precision, recall, f1)"
   ]
  },
  {
   "cell_type": "code",
   "execution_count": 69,
   "metadata": {},
   "outputs": [],
   "source": [
    "classes = np.array(list(range(0,10)))\n",
    "metrix = np.array(('precision', 'recall', 'f1_score'))\n",
    "result = pd.DataFrame(np.zeros((classes.size, metrix.size)), columns=metrix, index=classes)\n",
    "for i in range(len(conf_matrixes)):\n",
    "    metrics = precision_recall_f1(conf_matrixes[i])\n",
    "    result.loc[i,:] = metrics\n",
    "    "
   ]
  },
  {
   "cell_type": "code",
   "execution_count": 70,
   "metadata": {},
   "outputs": [
    {
     "output_type": "execute_result",
     "data": {
      "text/plain": [
       "   precision  recall  f1_score\n",
       "1   0.968442   0.982  0.975174\n",
       "8   0.977710   0.965  0.971314\n",
       "5   0.966361   0.948  0.957092\n",
       "9   0.893773   0.976  0.933078\n",
       "7   0.949733   0.888  0.917829\n",
       "3   0.908709   0.866  0.886841\n",
       "0   0.819785   0.837  0.828303\n",
       "4   0.813456   0.798  0.805654\n",
       "2   0.786260   0.824  0.804688\n",
       "6   0.710526   0.702  0.706237"
      ],
      "text/html": "<div>\n<style scoped>\n    .dataframe tbody tr th:only-of-type {\n        vertical-align: middle;\n    }\n\n    .dataframe tbody tr th {\n        vertical-align: top;\n    }\n\n    .dataframe thead th {\n        text-align: right;\n    }\n</style>\n<table border=\"1\" class=\"dataframe\">\n  <thead>\n    <tr style=\"text-align: right;\">\n      <th></th>\n      <th>precision</th>\n      <th>recall</th>\n      <th>f1_score</th>\n    </tr>\n  </thead>\n  <tbody>\n    <tr>\n      <th>1</th>\n      <td>0.968442</td>\n      <td>0.982</td>\n      <td>0.975174</td>\n    </tr>\n    <tr>\n      <th>8</th>\n      <td>0.977710</td>\n      <td>0.965</td>\n      <td>0.971314</td>\n    </tr>\n    <tr>\n      <th>5</th>\n      <td>0.966361</td>\n      <td>0.948</td>\n      <td>0.957092</td>\n    </tr>\n    <tr>\n      <th>9</th>\n      <td>0.893773</td>\n      <td>0.976</td>\n      <td>0.933078</td>\n    </tr>\n    <tr>\n      <th>7</th>\n      <td>0.949733</td>\n      <td>0.888</td>\n      <td>0.917829</td>\n    </tr>\n    <tr>\n      <th>3</th>\n      <td>0.908709</td>\n      <td>0.866</td>\n      <td>0.886841</td>\n    </tr>\n    <tr>\n      <th>0</th>\n      <td>0.819785</td>\n      <td>0.837</td>\n      <td>0.828303</td>\n    </tr>\n    <tr>\n      <th>4</th>\n      <td>0.813456</td>\n      <td>0.798</td>\n      <td>0.805654</td>\n    </tr>\n    <tr>\n      <th>2</th>\n      <td>0.786260</td>\n      <td>0.824</td>\n      <td>0.804688</td>\n    </tr>\n    <tr>\n      <th>6</th>\n      <td>0.710526</td>\n      <td>0.702</td>\n      <td>0.706237</td>\n    </tr>\n  </tbody>\n</table>\n</div>"
     },
     "metadata": {},
     "execution_count": 70
    }
   ],
   "source": [
    "result.sort_values(by='f1_score', ascending=False)"
   ]
  },
  {
   "source": [
    "можно видеть что подкачали картинки 0,4,2,6 она распознаются хуже всего."
   ],
   "cell_type": "markdown",
   "metadata": {}
  },
  {
   "cell_type": "code",
   "execution_count": 117,
   "metadata": {},
   "outputs": [
    {
     "output_type": "stream",
     "name": "stdout",
     "text": [
      "0\n4\n2\n6\n"
     ]
    },
    {
     "output_type": "display_data",
     "data": {
      "text/plain": "<Figure size 1440x360 with 4 Axes>",
      "image/svg+xml": "<?xml version=\"1.0\" encoding=\"utf-8\" standalone=\"no\"?>\r\n<!DOCTYPE svg PUBLIC \"-//W3C//DTD SVG 1.1//EN\"\r\n  \"http://www.w3.org/Graphics/SVG/1.1/DTD/svg11.dtd\">\r\n<!-- Created with matplotlib (https://matplotlib.org/) -->\r\n<svg height=\"273.686821pt\" version=\"1.1\" viewBox=\"0 0 1150.125 273.686821\" width=\"1150.125pt\" xmlns=\"http://www.w3.org/2000/svg\" xmlns:xlink=\"http://www.w3.org/1999/xlink\">\r\n <metadata>\r\n  <rdf:RDF xmlns:cc=\"http://creativecommons.org/ns#\" xmlns:dc=\"http://purl.org/dc/elements/1.1/\" xmlns:rdf=\"http://www.w3.org/1999/02/22-rdf-syntax-ns#\">\r\n   <cc:Work>\r\n    <dc:type rdf:resource=\"http://purl.org/dc/dcmitype/StillImage\"/>\r\n    <dc:date>2021-04-29T16:19:38.042969</dc:date>\r\n    <dc:format>image/svg+xml</dc:format>\r\n    <dc:creator>\r\n     <cc:Agent>\r\n      <dc:title>Matplotlib v3.3.0, https://matplotlib.org/</dc:title>\r\n     </cc:Agent>\r\n    </dc:creator>\r\n   </cc:Work>\r\n  </rdf:RDF>\r\n </metadata>\r\n <defs>\r\n  <style type=\"text/css\">*{stroke-linecap:butt;stroke-linejoin:round;}</style>\r\n </defs>\r\n <g id=\"figure_1\">\r\n  <g id=\"patch_1\">\r\n   <path d=\"M 0 273.686821 \r\nL 1150.125 273.686821 \r\nL 1150.125 0 \r\nL 0 0 \r\nz\r\n\" style=\"fill:none;\"/>\r\n  </g>\r\n  <g id=\"axes_1\">\r\n   <g id=\"patch_2\">\r\n    <path d=\"M 26.925 249.808696 \r\nL 269.533696 249.808696 \r\nL 269.533696 7.2 \r\nL 26.925 7.2 \r\nz\r\n\" style=\"fill:#ffffff;\"/>\r\n   </g>\r\n   <g clip-path=\"url(#pb2b9d41d1a)\">\r\n    <image height=\"243\" id=\"image8b93b11ec0\" transform=\"scale(1 -1)translate(0 -243)\" width=\"243\" x=\"26.925\" xlink:href=\"data:image/png;base64,\r\niVBORw0KGgoAAAANSUhEUgAAAPMAAADzCAYAAABT9iA/AAAMEUlEQVR4nO3dW4ycZR3H8f87787OdHrYbdkesJwUqBgqGg0twXDQ1JtGBZImeIjeaYTEC7zQxMQ0xAsvCHqN8USIUS70BkPVKEJMgVg5ixUS2ppSDm2Xdtl2d2dmZ14vuCXP7zG8GWd+fD+3zz/P7M7Ob9+L5z/Pv9hT7KtiUhSFrqne+6/z8n3X6h+lNdQbLTSTy1UzY48cjfRyeU4URERUGe9tod/bYjW9T8YW0ejrmt5MeqPN/9C/z+wDT+gXmiAZf2UAk4AwAyYIM2CCMAMmCDNggjADJggzYIIwAyam/t8/wP+khoaQHLt3viJrbp17RtbMD9Yl169dc0TuMR26saRZpGtmGgO5R12WRPNJO6Nr5KFzH5E125tnkuvfv+QLco/ZB2RJRKNMrw9H994qPJkBE4QZMEGYAROEGTBBmAEThBkwQZgBE5N1zjwixxdndc3MJllzpr82uX5sZZfco1+Jc86IWFd2k+vtjG/757zOoNL/+7vD9EeqU/bkHvO99Pl8RMTp6fXJ9aWjG+QeWcboHFnhyQyYIMyACcIMmCDMgAnCDJggzIAJwgyYIMyAiclqGhnRRItPzh1/z3tE6AaJRuifNaeZQzWFdBq6UWMQ+r0dZjSNLA2nk+utjAaW+dBNI6W4kKEYZHxWcqjP3IguzMjBkxkwQZgBE4QZMEGYAROEGTBBmAEThBkwQZgBE5PVNDJG+uJGjYi8phD5OhlNI2WVbqDIaQjJUcc+ZcZ7MqzhdYrJuSCkNjyZAROEGTBBmAEThBkwQZgBE4QZMEGYAROTdc48oi+Cb5hakTV1nIXmnEM3Mw5M1aSJdqEvBFgctmVNHRriUoGIiEGl31t1yUHGy+QpxPOuGp8DbZ7MgAnCDJggzIAJwgyYIMyACcIMmCDMgAnCDJiYrKaREU20yLEybMoaNXWhVay+5z0i8i4wULoZv0/ONArVCJMzFWN1mDHFQ7x3XE4AYGIRZsAEYQZMEGbABGEGTBBmwARhBkwQZsDEZDWNjEhOE8Yw4zaMTtlLruc0hAxraAjpV/rPrG4ryaV+p5ypGI1CN/50Gt3k+tRSPVM8JglPZsAEYQZMEGbABGEGTBBmwARhBkwQZsAE58zvImeKRDfj7Fap62xXyTo3r2FCR4SeWJFzOUHO1Iu16pxZDyXJUjTS70tV1+SMGvBkBkwQZsAEYQZMEGbABGEGTBBmwARhBkwQZsAETSPvYq65KGuOLG/O2Odccj1nKkY7Y4qEaj7JeZ2cRplSTKuIiFgctJPrOc0prYae9KFMnx3NZJNxwpMZMEGYAROEGTBBmAEThBkwQZgBE4QZMEGYAROT1TRSZPzvqXTzg9IudKNGjoXVNcn1nOaInNtIVCNGXbeI5EyjUM0n8/21co81pX7/1W0kZb+mppGcz9yYmJyfFEASYQZMEGbABGEGTBBmwARhBkwQZsDEZJ0zj8ijZz4sa+amz8ua7jD99nbKntwj54xYnUXnXDwwKjnTNTaWS7JGTcYYo195ZHgyAyYIM2CCMAMmCDNggjADJggzYIIwAyYIM2BioppGioZuoKjS31l/RyPduDCdcWmA+nL8OzXpL8jnNFA0MqZIlOJnqet1VKNGzmup9yQir8mlJ14n40fNk/GZGxc8mQEThBkwQZgBE4QZMEGYAROEGTBBmAEThBkwMVFNI9Wgnusjyg3rkusbplbkHjnND+omkZVhU+7RbmRMdxANHzlNI5HRBJOzj6qZmVqWeywNp2XNUDyHqnJymj3qwpMZMEGYAROEGTBBmAEThBkwQZgBE4QZMEGYARPj1TRSpA/6G62W3GK4ohs++js/mFy/ovOo3OPw+QtlzWXt08n113uzco+sG0AyRtjUQY3BybFxSo/1Ob6ySW8kPgq9DTW9J6pRSXxmIyKi0n/DOvBkBkwQZsAEYQZMEGbABGEGTBBmwARhBkyM1zmzOI/LOUPOIs4GPzR9Um7x3OLFskZNZigjZ/yGVsf57zjpZlzaIPeYqeEHiYhqVU83GRdenwLgfYwwAyYIM2CCMAMmCDNggjADJggzYIIwAybGq2lEmNq2VdYsX6ObOd74Rrr5ZKXSTQs5lwYsrHaS669ndDasFVMxIiJaGVMvRkVN+jjZ2yD36Gc0wZxaXZ9cb+16S+7hhiczYIIwAyYIM2CCMAMmCDNggjADJggzYIIwAyaKPcW+kVy3/+r3rpc1V+99Kbl++5ZDco8rM24JubhM3/Dxi4Wdco9jKxfImnsufDy53q/EtISI6Ff6NpIVUdMu9P/sTiOnUUbv063SDSzNopR7HOnrJpifv/Wp5Pr21hm5R86NMq/1NybXD72dno4SEXHwj9fImkv3pz8rOXgyAyYIM2CCMAMmCDNggjADJggzYIIwAyZGdjnB1C597vfd7QeS608uXy73+E9vTtZsbS4k19eVenJGq6EnHez92jeT68ub9dnu8ib9/1YNgGie160EOfcbTK3ofQbT6Wkh3dn0+js/i36dW+54LLl+btCWe+RcQtGv0hG5afbfco/Lbzslax7bv0bWKDyZAROEGTBBmAEThBkwQZgBE4QZMEGYAROEGTAxsqaRrfe0ZM0b9+tpB0rOdIdF0VCwTTSVREScKNNfWo+ImPrLU8n19dfpL63PHNa/z9LF6ekOaw8dk3sUhW7mqLp6ukY00vuc3bNDbrH+wSdlzUtfTU83uXlT+qKLCH3xQISeSjII/b7df3i3rLksnpc1Ck9mwARhBkwQZsAEYQZMEGbABGEGTBBmwARhBkyMrGmkOPisrNndmk+un1rVTSVnB+lD/oiIpWo6XZBx68aW5tu6KNJTLx7+7S/lDicGS7LmpgN3JdeP/uRPco8bX7hN1vzh6odkTaeRfm/3n3pT7vHkg/oGkBs3vpxcL0NPAmkWeqKIqtk8tSj3aD+xTtbUgSczYIIwAyYIM2CCMAMmCDNggjADJggzYGJk58w5fnjyhuT67vWvyD3e7M/ImoXV9PSA9S090eLI8mZZE+Ks84Zv3yl3OHeR/n+7497Hk+s7j+rXmXtBH65/tvMtWVOV6S/rd97QFxyU8bSs6TS6yfWj3S1yj7mmPiNuisklt6w9Ifd44G/6sgs9w0PjyQyYIMyACcIMmCDMgAnCDJggzIAJwgyYIMyAibFqGvn9gfTN/5/54r/kHitD/cX2RpE+oj+9mp4QERGxptRNFq99J90Es/Y1/QX6rX9fljVvf/m65PqFT+g9KjGJIiJi+qz+nQetMrnem9UfuZN3Xy9r2o1fJdeXhuICiog43dd/5yva6csU/rw8J/eonnpR1tSBJzNggjADJggzYIIwAyYIM2CCMAMmCDNggjADJsaqaeSiR9K3UMzv05MBzqzqiRadRvp1lga64WDLtJ5o8Zs7702uf6DU90s0C/3/dnGYvg2j00g3ckREdCvdwJLzn3+9mGixNNSNJ0dW9cfywOI1yfWciRbdoX6dZpF+b+/665fkHjvikKypA09mwARhBkwQZsAEYQZMEGbABGEGTBBmwMRYnTNPPfJUcv3h+fTZYkTE3guelzXPnb8kud6v9LnsoDcra+5bvjG5ri5JyNUsBsn184OW3GNK7FHXzzIqOe/tsNIXMrSL9Ln4jp/q6SejwpMZMEGYAROEGTBBmAEThBkwQZgBE4QZMEGYARPFnmJfPZ0LI1DOXSBrln+tLzC449JHk+vTGY0Px3p6ksHJ3obk+rmMZo7VjAaWNeKyhSvXpKcyRES82tska3KaaXIaMeow1zyXXN/aXJB7zJZLsmb/i59Prm+79bDcY1R4MgMmCDNggjADJggzYIIwAyYIM2CCMAMmCDNgYnRNI0VGM0E1mh9lcPMnkuuv3K4vYLn707+TNStVerrDZc1Tco8tZbo5IiLi4y3dfDIqP1vYllzPaTz5+sxxWXOwm34O3fHMV+Qe23/UlDXFwWdlzbjgyQyYIMyACcIMmCDMgAnCDJggzIAJwgyYmKjLCcbprDrLro8mlzf++ITc4p8PXSVrtjydvpyg7OrLForeUNac/lhH1pSfm0+uzx/bKPe46gdHZc3gzZOy5v2GJzNggjADJggzYIIwAyYIM2CCMAMmCDNggjADJv4Ltv2M6Run/AgAAAAASUVORK5CYII=\" y=\"-6.808696\"/>\r\n   </g>\r\n   <g id=\"matplotlib.axis_1\">\r\n    <g id=\"xtick_1\">\r\n     <g id=\"line2d_1\">\r\n      <defs>\r\n       <path d=\"M 0 0 \r\nL 0 3.5 \r\n\" id=\"mf1518ed1d9\" style=\"stroke:#000000;stroke-width:0.8;\"/>\r\n      </defs>\r\n      <g>\r\n       <use style=\"stroke:#000000;stroke-width:0.8;\" x=\"31.257298\" xlink:href=\"#mf1518ed1d9\" y=\"249.808696\"/>\r\n      </g>\r\n     </g>\r\n     <g id=\"text_1\">\r\n      <!-- 0 -->\r\n      <g transform=\"translate(28.076048 264.407133)scale(0.1 -0.1)\">\r\n       <defs>\r\n        <path d=\"M 31.78125 66.40625 \r\nQ 24.171875 66.40625 20.328125 58.90625 \r\nQ 16.5 51.421875 16.5 36.375 \r\nQ 16.5 21.390625 20.328125 13.890625 \r\nQ 24.171875 6.390625 31.78125 6.390625 \r\nQ 39.453125 6.390625 43.28125 13.890625 \r\nQ 47.125 21.390625 47.125 36.375 \r\nQ 47.125 51.421875 43.28125 58.90625 \r\nQ 39.453125 66.40625 31.78125 66.40625 \r\nz\r\nM 31.78125 74.21875 \r\nQ 44.046875 74.21875 50.515625 64.515625 \r\nQ 56.984375 54.828125 56.984375 36.375 \r\nQ 56.984375 17.96875 50.515625 8.265625 \r\nQ 44.046875 -1.421875 31.78125 -1.421875 \r\nQ 19.53125 -1.421875 13.0625 8.265625 \r\nQ 6.59375 17.96875 6.59375 36.375 \r\nQ 6.59375 54.828125 13.0625 64.515625 \r\nQ 19.53125 74.21875 31.78125 74.21875 \r\nz\r\n\" id=\"DejaVuSans-48\"/>\r\n       </defs>\r\n       <use xlink:href=\"#DejaVuSans-48\"/>\r\n      </g>\r\n     </g>\r\n    </g>\r\n    <g id=\"xtick_2\">\r\n     <g id=\"line2d_2\">\r\n      <g>\r\n       <use style=\"stroke:#000000;stroke-width:0.8;\" x=\"74.58028\" xlink:href=\"#mf1518ed1d9\" y=\"249.808696\"/>\r\n      </g>\r\n     </g>\r\n     <g id=\"text_2\">\r\n      <!-- 5 -->\r\n      <g transform=\"translate(71.39903 264.407133)scale(0.1 -0.1)\">\r\n       <defs>\r\n        <path d=\"M 10.796875 72.90625 \r\nL 49.515625 72.90625 \r\nL 49.515625 64.59375 \r\nL 19.828125 64.59375 \r\nL 19.828125 46.734375 \r\nQ 21.96875 47.46875 24.109375 47.828125 \r\nQ 26.265625 48.1875 28.421875 48.1875 \r\nQ 40.625 48.1875 47.75 41.5 \r\nQ 54.890625 34.8125 54.890625 23.390625 \r\nQ 54.890625 11.625 47.5625 5.09375 \r\nQ 40.234375 -1.421875 26.90625 -1.421875 \r\nQ 22.3125 -1.421875 17.546875 -0.640625 \r\nQ 12.796875 0.140625 7.71875 1.703125 \r\nL 7.71875 11.625 \r\nQ 12.109375 9.234375 16.796875 8.0625 \r\nQ 21.484375 6.890625 26.703125 6.890625 \r\nQ 35.15625 6.890625 40.078125 11.328125 \r\nQ 45.015625 15.765625 45.015625 23.390625 \r\nQ 45.015625 31 40.078125 35.4375 \r\nQ 35.15625 39.890625 26.703125 39.890625 \r\nQ 22.75 39.890625 18.8125 39.015625 \r\nQ 14.890625 38.140625 10.796875 36.28125 \r\nz\r\n\" id=\"DejaVuSans-53\"/>\r\n       </defs>\r\n       <use xlink:href=\"#DejaVuSans-53\"/>\r\n      </g>\r\n     </g>\r\n    </g>\r\n    <g id=\"xtick_3\">\r\n     <g id=\"line2d_3\">\r\n      <g>\r\n       <use style=\"stroke:#000000;stroke-width:0.8;\" x=\"117.903261\" xlink:href=\"#mf1518ed1d9\" y=\"249.808696\"/>\r\n      </g>\r\n     </g>\r\n     <g id=\"text_3\">\r\n      <!-- 10 -->\r\n      <g transform=\"translate(111.540761 264.407133)scale(0.1 -0.1)\">\r\n       <defs>\r\n        <path d=\"M 12.40625 8.296875 \r\nL 28.515625 8.296875 \r\nL 28.515625 63.921875 \r\nL 10.984375 60.40625 \r\nL 10.984375 69.390625 \r\nL 28.421875 72.90625 \r\nL 38.28125 72.90625 \r\nL 38.28125 8.296875 \r\nL 54.390625 8.296875 \r\nL 54.390625 0 \r\nL 12.40625 0 \r\nz\r\n\" id=\"DejaVuSans-49\"/>\r\n       </defs>\r\n       <use xlink:href=\"#DejaVuSans-49\"/>\r\n       <use x=\"63.623047\" xlink:href=\"#DejaVuSans-48\"/>\r\n      </g>\r\n     </g>\r\n    </g>\r\n    <g id=\"xtick_4\">\r\n     <g id=\"line2d_4\">\r\n      <g>\r\n       <use style=\"stroke:#000000;stroke-width:0.8;\" x=\"161.226242\" xlink:href=\"#mf1518ed1d9\" y=\"249.808696\"/>\r\n      </g>\r\n     </g>\r\n     <g id=\"text_4\">\r\n      <!-- 15 -->\r\n      <g transform=\"translate(154.863742 264.407133)scale(0.1 -0.1)\">\r\n       <use xlink:href=\"#DejaVuSans-49\"/>\r\n       <use x=\"63.623047\" xlink:href=\"#DejaVuSans-53\"/>\r\n      </g>\r\n     </g>\r\n    </g>\r\n    <g id=\"xtick_5\">\r\n     <g id=\"line2d_5\">\r\n      <g>\r\n       <use style=\"stroke:#000000;stroke-width:0.8;\" x=\"204.549224\" xlink:href=\"#mf1518ed1d9\" y=\"249.808696\"/>\r\n      </g>\r\n     </g>\r\n     <g id=\"text_5\">\r\n      <!-- 20 -->\r\n      <g transform=\"translate(198.186724 264.407133)scale(0.1 -0.1)\">\r\n       <defs>\r\n        <path d=\"M 19.1875 8.296875 \r\nL 53.609375 8.296875 \r\nL 53.609375 0 \r\nL 7.328125 0 \r\nL 7.328125 8.296875 \r\nQ 12.9375 14.109375 22.625 23.890625 \r\nQ 32.328125 33.6875 34.8125 36.53125 \r\nQ 39.546875 41.84375 41.421875 45.53125 \r\nQ 43.3125 49.21875 43.3125 52.78125 \r\nQ 43.3125 58.59375 39.234375 62.25 \r\nQ 35.15625 65.921875 28.609375 65.921875 \r\nQ 23.96875 65.921875 18.8125 64.3125 \r\nQ 13.671875 62.703125 7.8125 59.421875 \r\nL 7.8125 69.390625 \r\nQ 13.765625 71.78125 18.9375 73 \r\nQ 24.125 74.21875 28.421875 74.21875 \r\nQ 39.75 74.21875 46.484375 68.546875 \r\nQ 53.21875 62.890625 53.21875 53.421875 \r\nQ 53.21875 48.921875 51.53125 44.890625 \r\nQ 49.859375 40.875 45.40625 35.40625 \r\nQ 44.1875 33.984375 37.640625 27.21875 \r\nQ 31.109375 20.453125 19.1875 8.296875 \r\nz\r\n\" id=\"DejaVuSans-50\"/>\r\n       </defs>\r\n       <use xlink:href=\"#DejaVuSans-50\"/>\r\n       <use x=\"63.623047\" xlink:href=\"#DejaVuSans-48\"/>\r\n      </g>\r\n     </g>\r\n    </g>\r\n    <g id=\"xtick_6\">\r\n     <g id=\"line2d_6\">\r\n      <g>\r\n       <use style=\"stroke:#000000;stroke-width:0.8;\" x=\"247.872205\" xlink:href=\"#mf1518ed1d9\" y=\"249.808696\"/>\r\n      </g>\r\n     </g>\r\n     <g id=\"text_6\">\r\n      <!-- 25 -->\r\n      <g transform=\"translate(241.509705 264.407133)scale(0.1 -0.1)\">\r\n       <use xlink:href=\"#DejaVuSans-50\"/>\r\n       <use x=\"63.623047\" xlink:href=\"#DejaVuSans-53\"/>\r\n      </g>\r\n     </g>\r\n    </g>\r\n   </g>\r\n   <g id=\"matplotlib.axis_2\">\r\n    <g id=\"ytick_1\">\r\n     <g id=\"line2d_7\">\r\n      <defs>\r\n       <path d=\"M 0 0 \r\nL -3.5 0 \r\n\" id=\"m035ee0abdc\" style=\"stroke:#000000;stroke-width:0.8;\"/>\r\n      </defs>\r\n      <g>\r\n       <use style=\"stroke:#000000;stroke-width:0.8;\" x=\"26.925\" xlink:href=\"#m035ee0abdc\" y=\"11.532298\"/>\r\n      </g>\r\n     </g>\r\n     <g id=\"text_7\">\r\n      <!-- 0 -->\r\n      <g transform=\"translate(13.5625 15.331517)scale(0.1 -0.1)\">\r\n       <use xlink:href=\"#DejaVuSans-48\"/>\r\n      </g>\r\n     </g>\r\n    </g>\r\n    <g id=\"ytick_2\">\r\n     <g id=\"line2d_8\">\r\n      <g>\r\n       <use style=\"stroke:#000000;stroke-width:0.8;\" x=\"26.925\" xlink:href=\"#m035ee0abdc\" y=\"54.85528\"/>\r\n      </g>\r\n     </g>\r\n     <g id=\"text_8\">\r\n      <!-- 5 -->\r\n      <g transform=\"translate(13.5625 58.654498)scale(0.1 -0.1)\">\r\n       <use xlink:href=\"#DejaVuSans-53\"/>\r\n      </g>\r\n     </g>\r\n    </g>\r\n    <g id=\"ytick_3\">\r\n     <g id=\"line2d_9\">\r\n      <g>\r\n       <use style=\"stroke:#000000;stroke-width:0.8;\" x=\"26.925\" xlink:href=\"#m035ee0abdc\" y=\"98.178261\"/>\r\n      </g>\r\n     </g>\r\n     <g id=\"text_9\">\r\n      <!-- 10 -->\r\n      <g transform=\"translate(7.2 101.97748)scale(0.1 -0.1)\">\r\n       <use xlink:href=\"#DejaVuSans-49\"/>\r\n       <use x=\"63.623047\" xlink:href=\"#DejaVuSans-48\"/>\r\n      </g>\r\n     </g>\r\n    </g>\r\n    <g id=\"ytick_4\">\r\n     <g id=\"line2d_10\">\r\n      <g>\r\n       <use style=\"stroke:#000000;stroke-width:0.8;\" x=\"26.925\" xlink:href=\"#m035ee0abdc\" y=\"141.501242\"/>\r\n      </g>\r\n     </g>\r\n     <g id=\"text_10\">\r\n      <!-- 15 -->\r\n      <g transform=\"translate(7.2 145.300461)scale(0.1 -0.1)\">\r\n       <use xlink:href=\"#DejaVuSans-49\"/>\r\n       <use x=\"63.623047\" xlink:href=\"#DejaVuSans-53\"/>\r\n      </g>\r\n     </g>\r\n    </g>\r\n    <g id=\"ytick_5\">\r\n     <g id=\"line2d_11\">\r\n      <g>\r\n       <use style=\"stroke:#000000;stroke-width:0.8;\" x=\"26.925\" xlink:href=\"#m035ee0abdc\" y=\"184.824224\"/>\r\n      </g>\r\n     </g>\r\n     <g id=\"text_11\">\r\n      <!-- 20 -->\r\n      <g transform=\"translate(7.2 188.623442)scale(0.1 -0.1)\">\r\n       <use xlink:href=\"#DejaVuSans-50\"/>\r\n       <use x=\"63.623047\" xlink:href=\"#DejaVuSans-48\"/>\r\n      </g>\r\n     </g>\r\n    </g>\r\n    <g id=\"ytick_6\">\r\n     <g id=\"line2d_12\">\r\n      <g>\r\n       <use style=\"stroke:#000000;stroke-width:0.8;\" x=\"26.925\" xlink:href=\"#m035ee0abdc\" y=\"228.147205\"/>\r\n      </g>\r\n     </g>\r\n     <g id=\"text_12\">\r\n      <!-- 25 -->\r\n      <g transform=\"translate(7.2 231.946424)scale(0.1 -0.1)\">\r\n       <use xlink:href=\"#DejaVuSans-50\"/>\r\n       <use x=\"63.623047\" xlink:href=\"#DejaVuSans-53\"/>\r\n      </g>\r\n     </g>\r\n    </g>\r\n   </g>\r\n   <g id=\"patch_3\">\r\n    <path d=\"M 26.925 249.808696 \r\nL 26.925 7.2 \r\n\" style=\"fill:none;stroke:#000000;stroke-linecap:square;stroke-linejoin:miter;stroke-width:0.8;\"/>\r\n   </g>\r\n   <g id=\"patch_4\">\r\n    <path d=\"M 269.533696 249.808696 \r\nL 269.533696 7.2 \r\n\" style=\"fill:none;stroke:#000000;stroke-linecap:square;stroke-linejoin:miter;stroke-width:0.8;\"/>\r\n   </g>\r\n   <g id=\"patch_5\">\r\n    <path d=\"M 26.925 249.808696 \r\nL 269.533696 249.808696 \r\n\" style=\"fill:none;stroke:#000000;stroke-linecap:square;stroke-linejoin:miter;stroke-width:0.8;\"/>\r\n   </g>\r\n   <g id=\"patch_6\">\r\n    <path d=\"M 26.925 7.2 \r\nL 269.533696 7.2 \r\n\" style=\"fill:none;stroke:#000000;stroke-linecap:square;stroke-linejoin:miter;stroke-width:0.8;\"/>\r\n   </g>\r\n  </g>\r\n  <g id=\"axes_2\">\r\n   <g id=\"patch_7\">\r\n    <path d=\"M 318.055435 249.808696 \r\nL 560.66413 249.808696 \r\nL 560.66413 7.2 \r\nL 318.055435 7.2 \r\nz\r\n\" style=\"fill:#ffffff;\"/>\r\n   </g>\r\n   <g clip-path=\"url(#p5977cc9f5b)\">\r\n    <image height=\"243\" id=\"imagea7c5144ca7\" transform=\"scale(1 -1)translate(0 -243)\" width=\"243\" x=\"318.055435\" xlink:href=\"data:image/png;base64,\r\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\" y=\"-6.808696\"/>\r\n   </g>\r\n   <g id=\"matplotlib.axis_3\">\r\n    <g id=\"xtick_7\">\r\n     <g id=\"line2d_13\">\r\n      <g>\r\n       <use style=\"stroke:#000000;stroke-width:0.8;\" x=\"322.387733\" xlink:href=\"#mf1518ed1d9\" y=\"249.808696\"/>\r\n      </g>\r\n     </g>\r\n     <g id=\"text_13\">\r\n      <!-- 0 -->\r\n      <g transform=\"translate(319.206483 264.407133)scale(0.1 -0.1)\">\r\n       <use xlink:href=\"#DejaVuSans-48\"/>\r\n      </g>\r\n     </g>\r\n    </g>\r\n    <g id=\"xtick_8\">\r\n     <g id=\"line2d_14\">\r\n      <g>\r\n       <use style=\"stroke:#000000;stroke-width:0.8;\" x=\"365.710714\" xlink:href=\"#mf1518ed1d9\" y=\"249.808696\"/>\r\n      </g>\r\n     </g>\r\n     <g id=\"text_14\">\r\n      <!-- 5 -->\r\n      <g transform=\"translate(362.529464 264.407133)scale(0.1 -0.1)\">\r\n       <use xlink:href=\"#DejaVuSans-53\"/>\r\n      </g>\r\n     </g>\r\n    </g>\r\n    <g id=\"xtick_9\">\r\n     <g id=\"line2d_15\">\r\n      <g>\r\n       <use style=\"stroke:#000000;stroke-width:0.8;\" x=\"409.033696\" xlink:href=\"#mf1518ed1d9\" y=\"249.808696\"/>\r\n      </g>\r\n     </g>\r\n     <g id=\"text_15\">\r\n      <!-- 10 -->\r\n      <g transform=\"translate(402.671196 264.407133)scale(0.1 -0.1)\">\r\n       <use xlink:href=\"#DejaVuSans-49\"/>\r\n       <use x=\"63.623047\" xlink:href=\"#DejaVuSans-48\"/>\r\n      </g>\r\n     </g>\r\n    </g>\r\n    <g id=\"xtick_10\">\r\n     <g id=\"line2d_16\">\r\n      <g>\r\n       <use style=\"stroke:#000000;stroke-width:0.8;\" x=\"452.356677\" xlink:href=\"#mf1518ed1d9\" y=\"249.808696\"/>\r\n      </g>\r\n     </g>\r\n     <g id=\"text_16\">\r\n      <!-- 15 -->\r\n      <g transform=\"translate(445.994177 264.407133)scale(0.1 -0.1)\">\r\n       <use xlink:href=\"#DejaVuSans-49\"/>\r\n       <use x=\"63.623047\" xlink:href=\"#DejaVuSans-53\"/>\r\n      </g>\r\n     </g>\r\n    </g>\r\n    <g id=\"xtick_11\">\r\n     <g id=\"line2d_17\">\r\n      <g>\r\n       <use style=\"stroke:#000000;stroke-width:0.8;\" x=\"495.679658\" xlink:href=\"#mf1518ed1d9\" y=\"249.808696\"/>\r\n      </g>\r\n     </g>\r\n     <g id=\"text_17\">\r\n      <!-- 20 -->\r\n      <g transform=\"translate(489.317158 264.407133)scale(0.1 -0.1)\">\r\n       <use xlink:href=\"#DejaVuSans-50\"/>\r\n       <use x=\"63.623047\" xlink:href=\"#DejaVuSans-48\"/>\r\n      </g>\r\n     </g>\r\n    </g>\r\n    <g id=\"xtick_12\">\r\n     <g id=\"line2d_18\">\r\n      <g>\r\n       <use style=\"stroke:#000000;stroke-width:0.8;\" x=\"539.00264\" xlink:href=\"#mf1518ed1d9\" y=\"249.808696\"/>\r\n      </g>\r\n     </g>\r\n     <g id=\"text_18\">\r\n      <!-- 25 -->\r\n      <g transform=\"translate(532.64014 264.407133)scale(0.1 -0.1)\">\r\n       <use xlink:href=\"#DejaVuSans-50\"/>\r\n       <use x=\"63.623047\" xlink:href=\"#DejaVuSans-53\"/>\r\n      </g>\r\n     </g>\r\n    </g>\r\n   </g>\r\n   <g id=\"matplotlib.axis_4\">\r\n    <g id=\"ytick_7\">\r\n     <g id=\"line2d_19\">\r\n      <g>\r\n       <use style=\"stroke:#000000;stroke-width:0.8;\" x=\"318.055435\" xlink:href=\"#m035ee0abdc\" y=\"11.532298\"/>\r\n      </g>\r\n     </g>\r\n     <g id=\"text_19\">\r\n      <!-- 0 -->\r\n      <g transform=\"translate(304.692935 15.331517)scale(0.1 -0.1)\">\r\n       <use xlink:href=\"#DejaVuSans-48\"/>\r\n      </g>\r\n     </g>\r\n    </g>\r\n    <g id=\"ytick_8\">\r\n     <g id=\"line2d_20\">\r\n      <g>\r\n       <use style=\"stroke:#000000;stroke-width:0.8;\" x=\"318.055435\" xlink:href=\"#m035ee0abdc\" y=\"54.85528\"/>\r\n      </g>\r\n     </g>\r\n     <g id=\"text_20\">\r\n      <!-- 5 -->\r\n      <g transform=\"translate(304.692935 58.654498)scale(0.1 -0.1)\">\r\n       <use xlink:href=\"#DejaVuSans-53\"/>\r\n      </g>\r\n     </g>\r\n    </g>\r\n    <g id=\"ytick_9\">\r\n     <g id=\"line2d_21\">\r\n      <g>\r\n       <use style=\"stroke:#000000;stroke-width:0.8;\" x=\"318.055435\" xlink:href=\"#m035ee0abdc\" y=\"98.178261\"/>\r\n      </g>\r\n     </g>\r\n     <g id=\"text_21\">\r\n      <!-- 10 -->\r\n      <g transform=\"translate(298.330435 101.97748)scale(0.1 -0.1)\">\r\n       <use xlink:href=\"#DejaVuSans-49\"/>\r\n       <use x=\"63.623047\" xlink:href=\"#DejaVuSans-48\"/>\r\n      </g>\r\n     </g>\r\n    </g>\r\n    <g id=\"ytick_10\">\r\n     <g id=\"line2d_22\">\r\n      <g>\r\n       <use style=\"stroke:#000000;stroke-width:0.8;\" x=\"318.055435\" xlink:href=\"#m035ee0abdc\" y=\"141.501242\"/>\r\n      </g>\r\n     </g>\r\n     <g id=\"text_22\">\r\n      <!-- 15 -->\r\n      <g transform=\"translate(298.330435 145.300461)scale(0.1 -0.1)\">\r\n       <use xlink:href=\"#DejaVuSans-49\"/>\r\n       <use x=\"63.623047\" xlink:href=\"#DejaVuSans-53\"/>\r\n      </g>\r\n     </g>\r\n    </g>\r\n    <g id=\"ytick_11\">\r\n     <g id=\"line2d_23\">\r\n      <g>\r\n       <use style=\"stroke:#000000;stroke-width:0.8;\" x=\"318.055435\" xlink:href=\"#m035ee0abdc\" y=\"184.824224\"/>\r\n      </g>\r\n     </g>\r\n     <g id=\"text_23\">\r\n      <!-- 20 -->\r\n      <g transform=\"translate(298.330435 188.623442)scale(0.1 -0.1)\">\r\n       <use xlink:href=\"#DejaVuSans-50\"/>\r\n       <use x=\"63.623047\" xlink:href=\"#DejaVuSans-48\"/>\r\n      </g>\r\n     </g>\r\n    </g>\r\n    <g id=\"ytick_12\">\r\n     <g id=\"line2d_24\">\r\n      <g>\r\n       <use style=\"stroke:#000000;stroke-width:0.8;\" x=\"318.055435\" xlink:href=\"#m035ee0abdc\" y=\"228.147205\"/>\r\n      </g>\r\n     </g>\r\n     <g id=\"text_24\">\r\n      <!-- 25 -->\r\n      <g transform=\"translate(298.330435 231.946424)scale(0.1 -0.1)\">\r\n       <use xlink:href=\"#DejaVuSans-50\"/>\r\n       <use x=\"63.623047\" xlink:href=\"#DejaVuSans-53\"/>\r\n      </g>\r\n     </g>\r\n    </g>\r\n   </g>\r\n   <g id=\"patch_8\">\r\n    <path d=\"M 318.055435 249.808696 \r\nL 318.055435 7.2 \r\n\" style=\"fill:none;stroke:#000000;stroke-linecap:square;stroke-linejoin:miter;stroke-width:0.8;\"/>\r\n   </g>\r\n   <g id=\"patch_9\">\r\n    <path d=\"M 560.66413 249.808696 \r\nL 560.66413 7.2 \r\n\" style=\"fill:none;stroke:#000000;stroke-linecap:square;stroke-linejoin:miter;stroke-width:0.8;\"/>\r\n   </g>\r\n   <g id=\"patch_10\">\r\n    <path d=\"M 318.055435 249.808696 \r\nL 560.66413 249.808696 \r\n\" style=\"fill:none;stroke:#000000;stroke-linecap:square;stroke-linejoin:miter;stroke-width:0.8;\"/>\r\n   </g>\r\n   <g id=\"patch_11\">\r\n    <path d=\"M 318.055435 7.2 \r\nL 560.66413 7.2 \r\n\" style=\"fill:none;stroke:#000000;stroke-linecap:square;stroke-linejoin:miter;stroke-width:0.8;\"/>\r\n   </g>\r\n  </g>\r\n  <g id=\"axes_3\">\r\n   <g id=\"patch_12\">\r\n    <path d=\"M 609.18587 249.808696 \r\nL 851.794565 249.808696 \r\nL 851.794565 7.2 \r\nL 609.18587 7.2 \r\nz\r\n\" style=\"fill:#ffffff;\"/>\r\n   </g>\r\n   <g clip-path=\"url(#pfc0f9391b6)\">\r\n    <image height=\"243\" id=\"image93a855a345\" transform=\"scale(1 -1)translate(0 -243)\" width=\"243\" x=\"609.18587\" xlink:href=\"data:image/png;base64,\r\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\" y=\"-6.808696\"/>\r\n   </g>\r\n   <g id=\"matplotlib.axis_5\">\r\n    <g id=\"xtick_13\">\r\n     <g id=\"line2d_25\">\r\n      <g>\r\n       <use style=\"stroke:#000000;stroke-width:0.8;\" x=\"613.518168\" xlink:href=\"#mf1518ed1d9\" y=\"249.808696\"/>\r\n      </g>\r\n     </g>\r\n     <g id=\"text_25\">\r\n      <!-- 0 -->\r\n      <g transform=\"translate(610.336918 264.407133)scale(0.1 -0.1)\">\r\n       <use xlink:href=\"#DejaVuSans-48\"/>\r\n      </g>\r\n     </g>\r\n    </g>\r\n    <g id=\"xtick_14\">\r\n     <g id=\"line2d_26\">\r\n      <g>\r\n       <use style=\"stroke:#000000;stroke-width:0.8;\" x=\"656.841149\" xlink:href=\"#mf1518ed1d9\" y=\"249.808696\"/>\r\n      </g>\r\n     </g>\r\n     <g id=\"text_26\">\r\n      <!-- 5 -->\r\n      <g transform=\"translate(653.659899 264.407133)scale(0.1 -0.1)\">\r\n       <use xlink:href=\"#DejaVuSans-53\"/>\r\n      </g>\r\n     </g>\r\n    </g>\r\n    <g id=\"xtick_15\">\r\n     <g id=\"line2d_27\">\r\n      <g>\r\n       <use style=\"stroke:#000000;stroke-width:0.8;\" x=\"700.16413\" xlink:href=\"#mf1518ed1d9\" y=\"249.808696\"/>\r\n      </g>\r\n     </g>\r\n     <g id=\"text_27\">\r\n      <!-- 10 -->\r\n      <g transform=\"translate(693.80163 264.407133)scale(0.1 -0.1)\">\r\n       <use xlink:href=\"#DejaVuSans-49\"/>\r\n       <use x=\"63.623047\" xlink:href=\"#DejaVuSans-48\"/>\r\n      </g>\r\n     </g>\r\n    </g>\r\n    <g id=\"xtick_16\">\r\n     <g id=\"line2d_28\">\r\n      <g>\r\n       <use style=\"stroke:#000000;stroke-width:0.8;\" x=\"743.487112\" xlink:href=\"#mf1518ed1d9\" y=\"249.808696\"/>\r\n      </g>\r\n     </g>\r\n     <g id=\"text_28\">\r\n      <!-- 15 -->\r\n      <g transform=\"translate(737.124612 264.407133)scale(0.1 -0.1)\">\r\n       <use xlink:href=\"#DejaVuSans-49\"/>\r\n       <use x=\"63.623047\" xlink:href=\"#DejaVuSans-53\"/>\r\n      </g>\r\n     </g>\r\n    </g>\r\n    <g id=\"xtick_17\">\r\n     <g id=\"line2d_29\">\r\n      <g>\r\n       <use style=\"stroke:#000000;stroke-width:0.8;\" x=\"786.810093\" xlink:href=\"#mf1518ed1d9\" y=\"249.808696\"/>\r\n      </g>\r\n     </g>\r\n     <g id=\"text_29\">\r\n      <!-- 20 -->\r\n      <g transform=\"translate(780.447593 264.407133)scale(0.1 -0.1)\">\r\n       <use xlink:href=\"#DejaVuSans-50\"/>\r\n       <use x=\"63.623047\" xlink:href=\"#DejaVuSans-48\"/>\r\n      </g>\r\n     </g>\r\n    </g>\r\n    <g id=\"xtick_18\">\r\n     <g id=\"line2d_30\">\r\n      <g>\r\n       <use style=\"stroke:#000000;stroke-width:0.8;\" x=\"830.133075\" xlink:href=\"#mf1518ed1d9\" y=\"249.808696\"/>\r\n      </g>\r\n     </g>\r\n     <g id=\"text_30\">\r\n      <!-- 25 -->\r\n      <g transform=\"translate(823.770575 264.407133)scale(0.1 -0.1)\">\r\n       <use xlink:href=\"#DejaVuSans-50\"/>\r\n       <use x=\"63.623047\" xlink:href=\"#DejaVuSans-53\"/>\r\n      </g>\r\n     </g>\r\n    </g>\r\n   </g>\r\n   <g id=\"matplotlib.axis_6\">\r\n    <g id=\"ytick_13\">\r\n     <g id=\"line2d_31\">\r\n      <g>\r\n       <use style=\"stroke:#000000;stroke-width:0.8;\" x=\"609.18587\" xlink:href=\"#m035ee0abdc\" y=\"11.532298\"/>\r\n      </g>\r\n     </g>\r\n     <g id=\"text_31\">\r\n      <!-- 0 -->\r\n      <g transform=\"translate(595.82337 15.331517)scale(0.1 -0.1)\">\r\n       <use xlink:href=\"#DejaVuSans-48\"/>\r\n      </g>\r\n     </g>\r\n    </g>\r\n    <g id=\"ytick_14\">\r\n     <g id=\"line2d_32\">\r\n      <g>\r\n       <use style=\"stroke:#000000;stroke-width:0.8;\" x=\"609.18587\" xlink:href=\"#m035ee0abdc\" y=\"54.85528\"/>\r\n      </g>\r\n     </g>\r\n     <g id=\"text_32\">\r\n      <!-- 5 -->\r\n      <g transform=\"translate(595.82337 58.654498)scale(0.1 -0.1)\">\r\n       <use xlink:href=\"#DejaVuSans-53\"/>\r\n      </g>\r\n     </g>\r\n    </g>\r\n    <g id=\"ytick_15\">\r\n     <g id=\"line2d_33\">\r\n      <g>\r\n       <use style=\"stroke:#000000;stroke-width:0.8;\" x=\"609.18587\" xlink:href=\"#m035ee0abdc\" y=\"98.178261\"/>\r\n      </g>\r\n     </g>\r\n     <g id=\"text_33\">\r\n      <!-- 10 -->\r\n      <g transform=\"translate(589.46087 101.97748)scale(0.1 -0.1)\">\r\n       <use xlink:href=\"#DejaVuSans-49\"/>\r\n       <use x=\"63.623047\" xlink:href=\"#DejaVuSans-48\"/>\r\n      </g>\r\n     </g>\r\n    </g>\r\n    <g id=\"ytick_16\">\r\n     <g id=\"line2d_34\">\r\n      <g>\r\n       <use style=\"stroke:#000000;stroke-width:0.8;\" x=\"609.18587\" xlink:href=\"#m035ee0abdc\" y=\"141.501242\"/>\r\n      </g>\r\n     </g>\r\n     <g id=\"text_34\">\r\n      <!-- 15 -->\r\n      <g transform=\"translate(589.46087 145.300461)scale(0.1 -0.1)\">\r\n       <use xlink:href=\"#DejaVuSans-49\"/>\r\n       <use x=\"63.623047\" xlink:href=\"#DejaVuSans-53\"/>\r\n      </g>\r\n     </g>\r\n    </g>\r\n    <g id=\"ytick_17\">\r\n     <g id=\"line2d_35\">\r\n      <g>\r\n       <use style=\"stroke:#000000;stroke-width:0.8;\" x=\"609.18587\" xlink:href=\"#m035ee0abdc\" y=\"184.824224\"/>\r\n      </g>\r\n     </g>\r\n     <g id=\"text_35\">\r\n      <!-- 20 -->\r\n      <g transform=\"translate(589.46087 188.623442)scale(0.1 -0.1)\">\r\n       <use xlink:href=\"#DejaVuSans-50\"/>\r\n       <use x=\"63.623047\" xlink:href=\"#DejaVuSans-48\"/>\r\n      </g>\r\n     </g>\r\n    </g>\r\n    <g id=\"ytick_18\">\r\n     <g id=\"line2d_36\">\r\n      <g>\r\n       <use style=\"stroke:#000000;stroke-width:0.8;\" x=\"609.18587\" xlink:href=\"#m035ee0abdc\" y=\"228.147205\"/>\r\n      </g>\r\n     </g>\r\n     <g id=\"text_36\">\r\n      <!-- 25 -->\r\n      <g transform=\"translate(589.46087 231.946424)scale(0.1 -0.1)\">\r\n       <use xlink:href=\"#DejaVuSans-50\"/>\r\n       <use x=\"63.623047\" xlink:href=\"#DejaVuSans-53\"/>\r\n      </g>\r\n     </g>\r\n    </g>\r\n   </g>\r\n   <g id=\"patch_13\">\r\n    <path d=\"M 609.18587 249.808696 \r\nL 609.18587 7.2 \r\n\" style=\"fill:none;stroke:#000000;stroke-linecap:square;stroke-linejoin:miter;stroke-width:0.8;\"/>\r\n   </g>\r\n   <g id=\"patch_14\">\r\n    <path d=\"M 851.794565 249.808696 \r\nL 851.794565 7.2 \r\n\" style=\"fill:none;stroke:#000000;stroke-linecap:square;stroke-linejoin:miter;stroke-width:0.8;\"/>\r\n   </g>\r\n   <g id=\"patch_15\">\r\n    <path d=\"M 609.18587 249.808696 \r\nL 851.794565 249.808696 \r\n\" style=\"fill:none;stroke:#000000;stroke-linecap:square;stroke-linejoin:miter;stroke-width:0.8;\"/>\r\n   </g>\r\n   <g id=\"patch_16\">\r\n    <path d=\"M 609.18587 7.2 \r\nL 851.794565 7.2 \r\n\" style=\"fill:none;stroke:#000000;stroke-linecap:square;stroke-linejoin:miter;stroke-width:0.8;\"/>\r\n   </g>\r\n  </g>\r\n  <g id=\"axes_4\">\r\n   <g id=\"patch_17\">\r\n    <path d=\"M 900.316304 249.808696 \r\nL 1142.925 249.808696 \r\nL 1142.925 7.2 \r\nL 900.316304 7.2 \r\nz\r\n\" style=\"fill:#ffffff;\"/>\r\n   </g>\r\n   <g clip-path=\"url(#p754fa6305b)\">\r\n    <image height=\"243\" id=\"image2567d72d55\" transform=\"scale(1 -1)translate(0 -243)\" width=\"243\" x=\"900.316304\" xlink:href=\"data:image/png;base64,\r\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\" y=\"-6.808696\"/>\r\n   </g>\r\n   <g id=\"matplotlib.axis_7\">\r\n    <g id=\"xtick_19\">\r\n     <g id=\"line2d_37\">\r\n      <g>\r\n       <use style=\"stroke:#000000;stroke-width:0.8;\" x=\"904.648602\" xlink:href=\"#mf1518ed1d9\" y=\"249.808696\"/>\r\n      </g>\r\n     </g>\r\n     <g id=\"text_37\">\r\n      <!-- 0 -->\r\n      <g transform=\"translate(901.467352 264.407133)scale(0.1 -0.1)\">\r\n       <use xlink:href=\"#DejaVuSans-48\"/>\r\n      </g>\r\n     </g>\r\n    </g>\r\n    <g id=\"xtick_20\">\r\n     <g id=\"line2d_38\">\r\n      <g>\r\n       <use style=\"stroke:#000000;stroke-width:0.8;\" x=\"947.971584\" xlink:href=\"#mf1518ed1d9\" y=\"249.808696\"/>\r\n      </g>\r\n     </g>\r\n     <g id=\"text_38\">\r\n      <!-- 5 -->\r\n      <g transform=\"translate(944.790334 264.407133)scale(0.1 -0.1)\">\r\n       <use xlink:href=\"#DejaVuSans-53\"/>\r\n      </g>\r\n     </g>\r\n    </g>\r\n    <g id=\"xtick_21\">\r\n     <g id=\"line2d_39\">\r\n      <g>\r\n       <use style=\"stroke:#000000;stroke-width:0.8;\" x=\"991.294565\" xlink:href=\"#mf1518ed1d9\" y=\"249.808696\"/>\r\n      </g>\r\n     </g>\r\n     <g id=\"text_39\">\r\n      <!-- 10 -->\r\n      <g transform=\"translate(984.932065 264.407133)scale(0.1 -0.1)\">\r\n       <use xlink:href=\"#DejaVuSans-49\"/>\r\n       <use x=\"63.623047\" xlink:href=\"#DejaVuSans-48\"/>\r\n      </g>\r\n     </g>\r\n    </g>\r\n    <g id=\"xtick_22\">\r\n     <g id=\"line2d_40\">\r\n      <g>\r\n       <use style=\"stroke:#000000;stroke-width:0.8;\" x=\"1034.617547\" xlink:href=\"#mf1518ed1d9\" y=\"249.808696\"/>\r\n      </g>\r\n     </g>\r\n     <g id=\"text_40\">\r\n      <!-- 15 -->\r\n      <g transform=\"translate(1028.255047 264.407133)scale(0.1 -0.1)\">\r\n       <use xlink:href=\"#DejaVuSans-49\"/>\r\n       <use x=\"63.623047\" xlink:href=\"#DejaVuSans-53\"/>\r\n      </g>\r\n     </g>\r\n    </g>\r\n    <g id=\"xtick_23\">\r\n     <g id=\"line2d_41\">\r\n      <g>\r\n       <use style=\"stroke:#000000;stroke-width:0.8;\" x=\"1077.940528\" xlink:href=\"#mf1518ed1d9\" y=\"249.808696\"/>\r\n      </g>\r\n     </g>\r\n     <g id=\"text_41\">\r\n      <!-- 20 -->\r\n      <g transform=\"translate(1071.578028 264.407133)scale(0.1 -0.1)\">\r\n       <use xlink:href=\"#DejaVuSans-50\"/>\r\n       <use x=\"63.623047\" xlink:href=\"#DejaVuSans-48\"/>\r\n      </g>\r\n     </g>\r\n    </g>\r\n    <g id=\"xtick_24\">\r\n     <g id=\"line2d_42\">\r\n      <g>\r\n       <use style=\"stroke:#000000;stroke-width:0.8;\" x=\"1121.263509\" xlink:href=\"#mf1518ed1d9\" y=\"249.808696\"/>\r\n      </g>\r\n     </g>\r\n     <g id=\"text_42\">\r\n      <!-- 25 -->\r\n      <g transform=\"translate(1114.901009 264.407133)scale(0.1 -0.1)\">\r\n       <use xlink:href=\"#DejaVuSans-50\"/>\r\n       <use x=\"63.623047\" xlink:href=\"#DejaVuSans-53\"/>\r\n      </g>\r\n     </g>\r\n    </g>\r\n   </g>\r\n   <g id=\"matplotlib.axis_8\">\r\n    <g id=\"ytick_19\">\r\n     <g id=\"line2d_43\">\r\n      <g>\r\n       <use style=\"stroke:#000000;stroke-width:0.8;\" x=\"900.316304\" xlink:href=\"#m035ee0abdc\" y=\"11.532298\"/>\r\n      </g>\r\n     </g>\r\n     <g id=\"text_43\">\r\n      <!-- 0 -->\r\n      <g transform=\"translate(886.953804 15.331517)scale(0.1 -0.1)\">\r\n       <use xlink:href=\"#DejaVuSans-48\"/>\r\n      </g>\r\n     </g>\r\n    </g>\r\n    <g id=\"ytick_20\">\r\n     <g id=\"line2d_44\">\r\n      <g>\r\n       <use style=\"stroke:#000000;stroke-width:0.8;\" x=\"900.316304\" xlink:href=\"#m035ee0abdc\" y=\"54.85528\"/>\r\n      </g>\r\n     </g>\r\n     <g id=\"text_44\">\r\n      <!-- 5 -->\r\n      <g transform=\"translate(886.953804 58.654498)scale(0.1 -0.1)\">\r\n       <use xlink:href=\"#DejaVuSans-53\"/>\r\n      </g>\r\n     </g>\r\n    </g>\r\n    <g id=\"ytick_21\">\r\n     <g id=\"line2d_45\">\r\n      <g>\r\n       <use style=\"stroke:#000000;stroke-width:0.8;\" x=\"900.316304\" xlink:href=\"#m035ee0abdc\" y=\"98.178261\"/>\r\n      </g>\r\n     </g>\r\n     <g id=\"text_45\">\r\n      <!-- 10 -->\r\n      <g transform=\"translate(880.591304 101.97748)scale(0.1 -0.1)\">\r\n       <use xlink:href=\"#DejaVuSans-49\"/>\r\n       <use x=\"63.623047\" xlink:href=\"#DejaVuSans-48\"/>\r\n      </g>\r\n     </g>\r\n    </g>\r\n    <g id=\"ytick_22\">\r\n     <g id=\"line2d_46\">\r\n      <g>\r\n       <use style=\"stroke:#000000;stroke-width:0.8;\" x=\"900.316304\" xlink:href=\"#m035ee0abdc\" y=\"141.501242\"/>\r\n      </g>\r\n     </g>\r\n     <g id=\"text_46\">\r\n      <!-- 15 -->\r\n      <g transform=\"translate(880.591304 145.300461)scale(0.1 -0.1)\">\r\n       <use xlink:href=\"#DejaVuSans-49\"/>\r\n       <use x=\"63.623047\" xlink:href=\"#DejaVuSans-53\"/>\r\n      </g>\r\n     </g>\r\n    </g>\r\n    <g id=\"ytick_23\">\r\n     <g id=\"line2d_47\">\r\n      <g>\r\n       <use style=\"stroke:#000000;stroke-width:0.8;\" x=\"900.316304\" xlink:href=\"#m035ee0abdc\" y=\"184.824224\"/>\r\n      </g>\r\n     </g>\r\n     <g id=\"text_47\">\r\n      <!-- 20 -->\r\n      <g transform=\"translate(880.591304 188.623442)scale(0.1 -0.1)\">\r\n       <use xlink:href=\"#DejaVuSans-50\"/>\r\n       <use x=\"63.623047\" xlink:href=\"#DejaVuSans-48\"/>\r\n      </g>\r\n     </g>\r\n    </g>\r\n    <g id=\"ytick_24\">\r\n     <g id=\"line2d_48\">\r\n      <g>\r\n       <use style=\"stroke:#000000;stroke-width:0.8;\" x=\"900.316304\" xlink:href=\"#m035ee0abdc\" y=\"228.147205\"/>\r\n      </g>\r\n     </g>\r\n     <g id=\"text_48\">\r\n      <!-- 25 -->\r\n      <g transform=\"translate(880.591304 231.946424)scale(0.1 -0.1)\">\r\n       <use xlink:href=\"#DejaVuSans-50\"/>\r\n       <use x=\"63.623047\" xlink:href=\"#DejaVuSans-53\"/>\r\n      </g>\r\n     </g>\r\n    </g>\r\n   </g>\r\n   <g id=\"patch_18\">\r\n    <path d=\"M 900.316304 249.808696 \r\nL 900.316304 7.2 \r\n\" style=\"fill:none;stroke:#000000;stroke-linecap:square;stroke-linejoin:miter;stroke-width:0.8;\"/>\r\n   </g>\r\n   <g id=\"patch_19\">\r\n    <path d=\"M 1142.925 249.808696 \r\nL 1142.925 7.2 \r\n\" style=\"fill:none;stroke:#000000;stroke-linecap:square;stroke-linejoin:miter;stroke-width:0.8;\"/>\r\n   </g>\r\n   <g id=\"patch_20\">\r\n    <path d=\"M 900.316304 249.808696 \r\nL 1142.925 249.808696 \r\n\" style=\"fill:none;stroke:#000000;stroke-linecap:square;stroke-linejoin:miter;stroke-width:0.8;\"/>\r\n   </g>\r\n   <g id=\"patch_21\">\r\n    <path d=\"M 900.316304 7.2 \r\nL 1142.925 7.2 \r\n\" style=\"fill:none;stroke:#000000;stroke-linecap:square;stroke-linejoin:miter;stroke-width:0.8;\"/>\r\n   </g>\r\n  </g>\r\n </g>\r\n <defs>\r\n  <clipPath id=\"pb2b9d41d1a\">\r\n   <rect height=\"242.608696\" width=\"242.608696\" x=\"26.925\" y=\"7.2\"/>\r\n  </clipPath>\r\n  <clipPath id=\"p5977cc9f5b\">\r\n   <rect height=\"242.608696\" width=\"242.608696\" x=\"318.055435\" y=\"7.2\"/>\r\n  </clipPath>\r\n  <clipPath id=\"pfc0f9391b6\">\r\n   <rect height=\"242.608696\" width=\"242.608696\" x=\"609.18587\" y=\"7.2\"/>\r\n  </clipPath>\r\n  <clipPath id=\"p754fa6305b\">\r\n   <rect height=\"242.608696\" width=\"242.608696\" x=\"900.316304\" y=\"7.2\"/>\r\n  </clipPath>\r\n </defs>\r\n</svg>\r\n",
      "image/png": "[encoded data removed]"
     },
     "metadata": {
      "needs_background": "light"
     }
    }
   ],
   "source": [
    "fig, axes = plt.subplots(1,4, figsize=((20,5)))\n",
    "for i, item in enumerate([0,4,2,6]):\n",
    "    axes[i].imshow(X_images_train[np.isin(y_train, item)][0])"
   ]
  },
  {
   "source": [
    "Вот эти ребята опознались хуже всего, они весьма силно похожи друг на друга, видимо поэтоу алоритм их перепутал."
   ],
   "cell_type": "markdown",
   "metadata": {}
  }
 ]
}